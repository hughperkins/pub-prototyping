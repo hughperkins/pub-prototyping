{
 "cells": [
  {
   "cell_type": "markdown",
   "metadata": {},
   "source": [
    "# wikipedia \"Cross-entropy method\"\n",
    "\n",
    "- https://en.wikipedia.org/wiki/Cross-entropy_method"
   ]
  },
  {
   "cell_type": "markdown",
   "metadata": {},
   "source": [
    "## Estimation via important sampling\n",
    "\n",
    "\"Consider the problem of estimating the quantity\n",
    "\n",
    "$$\n",
    "l = \\mathbb{E}_\\mathbf{u}[H(\\mathbf{X})]\n",
    "= \\int H(\\mathbf{x})\\,f(\\mathbf{x}; \\mathbf{u})\\,d\\mathbf{x}\n",
    "$$\n",
    "\n",
    "... where $H$ is some _performacne function_ and $f(\\mathbf{x}; \\mathbf{u})$ is a member of some _parametric family_ of distributions. Using _importance sampling_ this quantity can be estimated as\n",
    "\n",
    "$$\n",
    "\\hat{l} = \\frac{1}{N} \\sum_{i=1}^N H(\\mathbf{x}_i)\n",
    "\\frac{f(\\mathbf{X}_i; \\mathbf{u})}\n",
    "{g(\\mathbf{X}_i)}\n",
    "$$\n",
    "\n",
    "where $\\mathbf{X}_1,\\dots,\\mathbf{X}_N$ is a random sample from $g$. For positive $H$, the theoretically optimal importance sampling density (pdf) is given by:\n",
    "\n",
    "$$\n",
    "g^*(\\mathbf{x}) = \\frac{H(\\mathbf{x})\\, f(\\mathbf{x}; \\mathbf{u})}\n",
    "  {l}\n",
    "$$"
   ]
  }
 ],
 "metadata": {
  "kernelspec": {
   "display_name": "Python 3",
   "language": "python",
   "name": "python3"
  },
  "language_info": {
   "codemirror_mode": {
    "name": "ipython",
    "version": 3
   },
   "file_extension": ".py",
   "mimetype": "text/x-python",
   "name": "python",
   "nbconvert_exporter": "python",
   "pygments_lexer": "ipython3",
   "version": "3.6.1"
  }
 },
 "nbformat": 4,
 "nbformat_minor": 2
}
