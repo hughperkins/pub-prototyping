{
 "cells": [
  {
   "cell_type": "markdown",
   "metadata": {},
   "source": [
    "# \"Importance Sampling\", Owen, 2013\n",
    "\n",
    "- http://statweb.stanford.edu/~owen/mc/Ch-var-is.pdf"
   ]
  },
  {
   "cell_type": "markdown",
   "metadata": {},
   "source": [
    "\"In many applications we want to compute $\\mu = \\mathbb{E}[f(\\mathbf{X})]$ where $f(\\mathbf{x})$ is nearly zero outside a region $A$ for which $\\mathbb{P}(\\mathbf{X} \\in A)$ is small. The set $A$ may have small volume, or it may be in the tail of the $\\mathbf{X}$ distribution. A plain Monte Carlo sample from the distribution $\\mathbf{X}$ could fail to have even one point inside the region $A$. Problems of this type arise in high energy physics, Bayesian inference, rare event simulation for finance and insurance, and rendering in computer graphics among other areas.\n",
    "\n",
    "\"It is clear intuitively that we must get some samples from the interesting or important region. We do this by sampling from a distribution that over-weights the important region, hence the name __importance sampling__. Having oversampled the important region, we have to adjust our estimate somehow to account for having sampled from this other distribution.\n",
    "\n",
    "\"Importance sampling can bring enormous gains, making an otherwise infeasible problem amenable to Monte Carlo. It can also backfire, yielding an estimate with infinite variance when simple Monte Carlo would have had a finite variance. It is the hardest variance reduction method to use well.\n",
    "\n",
    "\"Importance sampling is more than just a variance reduction method. It can be used to study one distribution while sampling from another. As a result we can use importance sampling as an alternative to acceptance-rejection sampling, as a method for sensitivity analysis and as the foundation for some methods of computing normalizing constants of probability densities. Importance sampling is also an important prerequisite for sequential Monte Carlo. For these reasons we spend a whole chapter on it.\""
   ]
  },
  {
   "cell_type": "markdown",
   "metadata": {},
   "source": [
    "## 9.1 Basic importance sampling$\\def\\E{\\mathbb{E}}\n",
    "\\def\\X{\\mathbf{X}}\n",
    "\\def\\D{\\mathcal{D}}\n",
    "\\def\\x{\\mathbf{x}}\n",
    "\\def\\R{\\mathbb{R}}\n",
    "\\def\\Var{\\text{Var}}\n",
    "\\def\\Cov{\\text{Cov}}\n",
    "\\def\\Corr{\\text{Corr}}\n",
    "\\def\\Q{\\mathcal{Q}}$\n",
    "\n",
    "\"Suppose that our problem is to find $\\mu = \\E[f(\\X)] = \\int_\\D f(\\x)\\,p(\\x)\\,d\\x$ where $p$ is a probability density on $\\D \\subseteq \\R^d$ and $f$ is the integrand. We take $p(\\x) = 0$ for all $\\x \\notin \\D$. If $q$ is a positive probability density function on $\\R^d$, then\n",
    "\n",
    "$$\n",
    "\\mu = \\int_\\D f(\\x)\\,p(\\x)\\,d\\x \\\\\n",
    "= \\int_\\D \\frac{f(\\x)\\,p(\\x)}{q(\\x)} q(\\x) \\,d\\x \\\\\n",
    "= \\E_q\\left[\n",
    "   \\frac{ f(\\X)\\, p(\\X)}\n",
    "      {q(\\X)}\n",
    "\\right]\n",
    "$$\n",
    "\n",
    "where $\\E_q(\\cdot)$ denotes expectation for $\\X \\sim q$. We also write $\\Var_q(\\cdot)$, $\\Cov_q(\\cdot, \\cdot)$, and $\\Corr_q(\\cdot, \\cdot)$ for variance, covariance and correlation when $\\X \\sim q$. Our original goal then is to find $\\E_p[f(\\X)]$. By making a multiplicative adjustment to $f$ we compensate for sampling from $q$ instead of $p$. The adjustment factor $p(\\x)/q(\\x)$ is called the __likelihood ratio__. The distribution of $q$ is the __importance distribution__ and $p$ is the __nominal distribution__.\n",
    "\n",
    "\"The importance distribution $q$ does not have to be positive everywhere. It is enough to have $q(x) > 0$ whenever $f(\\x)\\,p(\\x) \\ne 0$. That is, for $\\Q = \\{\\x \\mid q(\\x) > 0 \\}$ we have $\\x \\in \\Q$ whenever $f(\\x)\\,p(\\x) \\ne 0$. So if $\\x \\in \\D \\cap \\Q^c$ we know that $f(\\x) = 0$, while if $\\x \\in \\Q \\cup \\D^c$ we have $p(\\x) = 0$. Now\n",
    "\n",
    "$$\n",
    "\\E_q\\left(\n",
    "   \\frac{f(\\X)p(\\X)}\n",
    "      {q(\\X)}\n",
    "\\right)\n",
    "= \\int_\\Q \\frac{f(\\x) \\, p(\\x)}{q(\\x)} q(\\x)\\,d\\x\n",
    "= \\int_\\Q f(\\x)\\,p(\\x)\\,d\\x \\\\\n",
    "= \\int_\\D f(\\x)\\,p(\\x)\\,d\\x + \\int_{\\Q \\cap \\D^c} f(\\x)p(\\x)\\,d\\x\n",
    "   - \\int_{\\D \\cap \\Q^c} f(\\x) \\, p(\\x) \\, d \\x \\\\\n",
    "= \\int_\\D f(\\x)\\,p(\\x)\\,d\\x = \\mu\n",
    "\\tag{9.2}\n",
    "$$\n",
    "\n",
    "\"It is natural to wonder what happens for $\\x$ with $q(\\x) = 0$ in the denominator. The answer is that there are no such points $\\x \\in \\Q$ and we will never see one when sampling $\\X \\sim q$. Later we will see examples where $q(\\x)$ close to $0$ causes extreme difficulties, but $q(\\x) = 0$ is not a problem if $f(\\x)\\,p(\\x) = 0$ too.\n",
    "\n",
    "\"When we want $q$ to work for many different functions $f_j$ then we need $q(\\x) > 0$ at every $\\x$ where any $f_j(\\x)\\,p(\\x) \\ne 0$. Then a density $q$ with $q(\\x) > 0$ whenever $p(\\x) > 0$ will suffice, and will allow us to add new function $f_j$ to our list after we've drawn the sample.\n",
    "\n",
    "\"The __importance sampling estimate__ of $\\mu = \\E_p[f(\\X)]$ is:\n",
    "\n",
    "$$\n",
    "\\hat{\\mu}_q = \\frac{1}{n} \\sum_{i=1}^n\n",
    "\\frac{f(\\X_i)\\,p(\\X_i)}\n",
    "   {q(\\X_i)},\\:\n",
    "   \\X_i \\sim q\n",
    "\\tag{9.3}\n",
    "$$\n",
    "\n",
    "\"To use (9.3), we must be able to compute $fp/q$. Assuming that we can compute $f$, this estimate requires that we can compute $p(\\x)/q(\\x)$ at any $\\x$ we might sample. When $p$ or $q$ has an unknown normalization constant, then we will resort to a ratio estimate. For now, we assume that $p/q$ is computable, and study the variance of $\\hat{\\mu}_q$. Exponential tilting is one way to chooe $q$ with computable $p/q$ even when $p$ is unnormalized.\n",
    "\n",
    "__Theorem 9.1__ Let $\\hat{\\mu}_q$ be given by (9.3) where $\\mu = \\int_\\D f(\\x) \\, p(\\x) \\, d\\x$ and $q(\\x) > 0$ whenever $f(\\x)\\, p(\\x) \\ne 0$. then $\\E_q[\\hat{\\mu}_q] = \\mu$, and $\\Var_q(\\hat{\\mu}_q) = \\sigma^2_q/n$ where\n",
    "\n",
    "$$\n",
    "\\sigma^2_q = \\int_\\D \\frac{(f(\\x)\\,p(\\x))^2}\n",
    "     {q(\\x)}\n",
    "     \\, d\\x - \\mu^2 \\\\\n",
    "=\\int_\\D \\frac{(f(\\x)\\, p(\\x) - \\mu q(\\x))^2}\n",
    "    {q(\\x)}\n",
    "    \\, d\\x\n",
    "\\tag{9.4}\n",
    "$$\n",
    "\n",
    "__Proof__ That $\\E_q(\\hat{\\mu}_q) = \\mu$ follows directly from (9.2). Using $\\Q = \\{ \\x \\mid q(\\x) > 0\\}$, we find that\n",
    "\n",
    "$$\n",
    "\\Var_q(\\hat{\\mu}_q) = \\frac{1}{n}\n",
    "\\left(\n",
    "    \\int_\\Q \\left(\n",
    "        \\frac{f(\\x)\\, p(\\x)} {q(\\x)}\n",
    "    \\right)^2\n",
    "    q(\\x)\\, d\\x\n",
    "    - \\mu^2\n",
    "\\right) \\\\\n",
    "= \\frac{1}{n}\\left(\n",
    "   \\int_\\D \\left(\n",
    "       \\frac{f(\\x)\\, p(\\x)} {q(\\x)}\n",
    "   \\right)^2\n",
    "q(\\x)\\,d\\x\n",
    "- \\mu^2\n",
    "\\right)\n",
    "$$"
   ]
  },
  {
   "cell_type": "markdown",
   "metadata": {},
   "source": [
    "(continued in https://github.com/hughperkins/pub-prototyping/blob/master/maths/importance_sampling.ipynb )"
   ]
  }
 ],
 "metadata": {
  "kernelspec": {
   "display_name": "Python 3",
   "language": "python",
   "name": "python3"
  },
  "language_info": {
   "codemirror_mode": {
    "name": "ipython",
    "version": 3
   },
   "file_extension": ".py",
   "mimetype": "text/x-python",
   "name": "python",
   "nbconvert_exporter": "python",
   "pygments_lexer": "ipython3",
   "version": "3.6.1"
  }
 },
 "nbformat": 4,
 "nbformat_minor": 2
}
