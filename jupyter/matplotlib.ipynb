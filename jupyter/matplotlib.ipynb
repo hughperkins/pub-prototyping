{
 "cells": [
  {
   "cell_type": "markdown",
   "metadata": {
    "deletable": true,
    "editable": true
   },
   "source": [
    "# matplotlib"
   ]
  },
  {
   "cell_type": "markdown",
   "metadata": {
    "deletable": true,
    "editable": true
   },
   "source": [
    "## shared subplot axes"
   ]
  },
  {
   "cell_type": "code",
   "execution_count": 65,
   "metadata": {
    "collapsed": false,
    "deletable": true,
    "editable": true,
    "scrolled": false
   },
   "outputs": [
    {
     "data": {
      "image/png": "[encoded data removed]",
      "text/plain": [
       "<matplotlib.figure.Figure at 0x7f8c360a37f0>"
      ]
     },
     "metadata": {},
     "output_type": "display_data"
    }
   ],
   "source": [
    "import matplotlib.pyplot as plt\n",
    "import numpy as np\n",
    "\n",
    "N = 2\n",
    "\n",
    "np.random.seed(123)\n",
    "f, axes = plt.subplots(N, N, sharex=True, sharey=True)\n",
    "ax = f.add_subplot(1, 1, 1, frameon=False)\n",
    "ax.set_xlim([-3, 3])\n",
    "ax.set_ylim([-3, 3])\n",
    "# ax.set_xlabel('my x label')\n",
    "\n",
    "plt.xlabel(\"common X\")\n",
    "for i in range(N):\n",
    "    for j in range(N):\n",
    "        ax = axes[i][j]\n",
    "#         ax.set_ylim(ax.get_ylim()[::-1])\n",
    "        img = np.random.randn(10, 10).astype(np.float32)\n",
    "        img = np.flipud(img)\n",
    "        ax.pcolor(img)\n",
    "#         plt.gca().invert_yaxis()\n",
    "        ax.tick_params(labelcolor='none', top='off', bottom='off', left='off', right='off')\n",
    "#         ax.set_ylim(ax.get_ylim()[::-1])\n",
    "#         ax.invert_yaxis()\n",
    "\n",
    "# f.subplots_adjust(hspace=0, wspace=0)\n",
    "plt.show()\n"
   ]
  }
 ],
 "metadata": {
  "kernelspec": {
   "display_name": "Python 3",
   "language": "python",
   "name": "python3"
  },
  "language_info": {
   "codemirror_mode": {
    "name": "ipython",
    "version": 3
   },
   "file_extension": ".py",
   "mimetype": "text/x-python",
   "name": "python",
   "nbconvert_exporter": "python",
   "pygments_lexer": "ipython3",
   "version": "3.5.2"
  }
 },
 "nbformat": 4,
 "nbformat_minor": 2
}
