{
 "cells": [
  {
   "cell_type": "markdown",
   "metadata": {},
   "source": [
    "## load checkpoint model"
   ]
  },
  {
   "cell_type": "code",
   "execution_count": 17,
   "metadata": {
    "collapsed": false,
    "scrolled": false
   },
   "outputs": [
    {
     "name": "stdout",
     "output_type": "stream",
     "text": [
      "y 8.658\n",
      "y 20.979\n",
      "Tensor(\"W/read:0\", shape=(), dtype=float32)\n",
      "y 8.658\n",
      "y 20.979\n"
     ]
    }
   ],
   "source": [
    "import tensorflow as tf\n",
    "import numpy as np\n",
    "\n",
    "\n",
    "graph = tf.Graph()\n",
    "with graph.as_default():\n",
    "    x_t = tf.placeholder(tf.float32, [], name='x')\n",
    "    tf.add_to_collection('x_t', x_t)\n",
    "    tf.add_to_collection('y_t', y_t)\n",
    "    W_t = tf.Variable(2.5, name='W')\n",
    "    y_t = x_t * W_t\n",
    "    W_new_value_t = tf.placeholder(tf.float32, [])\n",
    "    W_assign_t = tf.assign(W_t, W_new_value_t)\n",
    "    saver_t = tf.train.Saver()\n",
    "    sess =  tf.Session()\n",
    "    with sess.as_default():\n",
    "        sess.run(tf.global_variables_initializer())\n",
    "        sess.run(W_assign_t, feed_dict={W_new_value_t: 3.7})\n",
    "        saver_t.save(sess, '/tmp/foo1')\n",
    "        for x in [2.34, 5.67]:\n",
    "            y = sess.run(y_t, feed_dict={x_t: x})\n",
    "            print('y', y)\n",
    "#         tf.train.\n",
    "\n",
    "    \n",
    "graph = tf.Graph()\n",
    "with graph.as_default():\n",
    "    saver_t = tf.train.import_meta_graph('/tmp/foo1.meta')\n",
    "    sess =  tf.Session()\n",
    "    with sess.as_default():\n",
    "        pass\n",
    "        saver_t.restore(sess, '/tmp/foo1')\n",
    "        print(tf.global_variables()[0])\n",
    "        x_t = tf.get_collection('x_t')[0]\n",
    "        y_t = tf.get_collection('y_t')[0]\n",
    "        for x in [2.34, 5.67]:\n",
    "            y = sess.run(y_t, feed_dict={x_t: x})\n",
    "            print('y', y)\n",
    "\n",
    "        #         print(tf.global_variables()[1])\n",
    "#         saver_t.restore(sess, '/tmp/foo1.ckpt')"
   ]
  }
 ],
 "metadata": {
  "kernelspec": {
   "display_name": "Python 3",
   "language": "python",
   "name": "python3"
  },
  "language_info": {
   "codemirror_mode": {
    "name": "ipython",
    "version": 3
   },
   "file_extension": ".py",
   "mimetype": "text/x-python",
   "name": "python",
   "nbconvert_exporter": "python",
   "pygments_lexer": "ipython3",
   "version": "3.5.2"
  }
 },
 "nbformat": 4,
 "nbformat_minor": 2
}
