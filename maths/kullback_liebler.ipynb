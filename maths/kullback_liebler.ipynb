{
 "cells": [
  {
   "cell_type": "markdown",
   "metadata": {},
   "source": [
    "# Kullback-Leibler divergence\n",
    "\n",
    "$$\n",
    "D_{KL}\\left(\n",
    " P\n",
    " \\|\n",
    " Q\n",
    "\\right)\n",
    "= \\mathbb{E}_P \\left[\n",
    "   \\log \\left(\n",
    "      \\frac{ P}{Q}\n",
    "   \\right)\n",
    "\\right]\n",
    "= \\mathbb{E}_P \\left[\n",
    "  \\log P - \\log Q\n",
    "\\right]\n",
    "$$"
   ]
  },
  {
   "cell_type": "markdown",
   "metadata": {},
   "source": [
    "ie, its the expectation over $P$ of the difference in the log probabilities\n",
    "- if the log probabilities are similar wherever $P$ is far-ish from zero, then $KL(P \\| Q)$ will be small-ish"
   ]
  },
  {
   "cell_type": "markdown",
   "metadata": {},
   "source": [
    "- where $P$ is small or zero, $Q$ is not very constrained\n",
    "- where $P$ is high, $Q$ needs to be close to $P$\n",
    "- where $Q$ is small, $P$ needs to be small too"
   ]
  },
  {
   "cell_type": "markdown",
   "metadata": {},
   "source": [
    "consequences, if we are trying to fit some uni-modal distribution $s$ to $r$, and $r$ has two modes:\n",
    "\n",
    "- if we minimize $D_{KL}(r \\| s)$, ie minimize $\\mathbb{E}_r[ \\log(r/s)]$, then we constrain $r$ and $s$ to be similar anywhere $r$ is large, but $s$ is relatively unconstrained for small $r$, so the result will be that the mode of $s$ will span both of $r$'s modes\n",
    "- if we minimize $D_{KL}(s \\| r)$, ie minimize $\\mathbb{E}_s[ \\log(s/r) ]$, then we constrain $r$ and $s$ to be similar anywhere $s$ is large. A single mode that spans both of $r$'s modes will by contrast have high $s$ mass in the middle of $r$'s modes, and thus not satisfy this constraint\n",
    "  - by constrast, if $s$ has its mode over one of $r$'s modes only, then $r$ and $s$ can have similar probabilities where $s$ probability is high, and thus the KL in this case can be small"
   ]
  }
 ],
 "metadata": {
  "kernelspec": {
   "display_name": "Python 3",
   "language": "python",
   "name": "python3"
  },
  "language_info": {
   "codemirror_mode": {
    "name": "ipython",
    "version": 3
   },
   "file_extension": ".py",
   "mimetype": "text/x-python",
   "name": "python",
   "nbconvert_exporter": "python",
   "pygments_lexer": "ipython3",
   "version": "3.6.2"
  }
 },
 "nbformat": 4,
 "nbformat_minor": 2
}
