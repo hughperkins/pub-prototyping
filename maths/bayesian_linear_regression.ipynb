{
 "cells": [
  {
   "cell_type": "markdown",
   "metadata": {},
   "source": [
    "# Bayesian linear regression"
   ]
  },
  {
   "cell_type": "code",
   "execution_count": 84,
   "metadata": {},
   "outputs": [
    {
     "data": {
      "image/png": "[encoded data removed]",
      "text/plain": [
       "<matplotlib.figure.Figure at 0x1181c61d0>"
      ]
     },
     "metadata": {},
     "output_type": "display_data"
    }
   ],
   "source": [
    "import torch\n",
    "import numpy as np\n",
    "import math\n",
    "import matplotlib.pyplot as plt\n",
    "\n",
    "num_samples = 7\n",
    "\n",
    "torch.manual_seed(123)\n",
    "order = 3\n",
    "W_gnd = torch.randn(order + 1)\n",
    "left = -3\n",
    "right = 3\n",
    "variance = torch.randn(1)[0] * 10\n",
    "# print('variance', variance)\n",
    "# help(torch.arange)\n",
    "x1 = torch.arange(left, right, (right - left) / 250)\n",
    "# print(x1)\n",
    "\n",
    "def expand_x(x1, order):\n",
    "    N = x1.size()[0]\n",
    "    x2 = torch.zeros(N, order + 1)\n",
    "    for k in range(order + 1):\n",
    "        x2[:, k] = x1.pow(k)\n",
    "    return x2\n",
    "\n",
    "x2 = expand_x(x1, order)\n",
    "y_gnd = x2 @ W_gnd\n",
    "\n",
    "x_samples = torch.rand(num_samples) * (right - left) + left\n",
    "x_samples_aug = expand_x(x_samples, order=order)\n",
    "y_samples = x_samples_aug @ W_gnd + torch.randn(num_samples) * np.sqrt(variance)\n",
    "\n",
    "\n",
    "plt.plot(x1.numpy(), y_gnd.numpy())\n",
    "# print('x_samples', x_samples)\n",
    "# print('y_samples', y_samples)\n",
    "plt.scatter(x_samples.numpy(), y_samples.numpy())\n",
    "plt.show()\n"
   ]
  },
  {
   "cell_type": "markdown",
   "metadata": {},
   "source": [
    "Looking at https://en.wikipedia.org/wiki/Bayesian_linear_regression, the posterior is:"
   ]
  },
  {
   "cell_type": "markdown",
   "metadata": {},
   "source": [
    "$$\n",
    "\\def\\Gauss{\\mathcal{N}}\n",
    "\\def\\IG{\\mathcal{IG}}\n",
    "    p(\\mathbf{w}, \\sigma^2 \\mid \\mathcal{Y}, \\mathcal{X})\n",
    "\\propto \\Gauss(\\mathbf{w} \\mid \\mathbf{\\mu}_n, \\Prec_n)\n",
    "\\cdot\n",
    "\\IG(\\sigma^2 \\mid a_n, b_n)\n",
    "$$"
   ]
  },
  {
   "cell_type": "markdown",
   "metadata": {},
   "source": [
    "Where:"
   ]
  },
  {
   "cell_type": "markdown",
   "metadata": {},
   "source": [
    "$$\n",
    "\\Prec_n = \\X^T \\X + \\Prec_0\n",
    "$$"
   ]
  },
  {
   "cell_type": "markdown",
   "metadata": {},
   "source": [
    "$$\n",
    "\\def\\X{\\mathbf{X}}\n",
    "\\def\\Prec{\\mathbf{\\Lambda}}\n",
    "\\def\\muv{\\mathbf{\\mu}}\n",
    "\\def\\wv{\\mathbf{w}}\n",
    "\\def\\yv{\\mathbf{y}}\n",
    "\\mathbf{\\mu}_n = (\\X^T\\X + \\Prec_0)^{-1}\n",
    "(\\Prec_0 \\muv_0 + \\X^T \\X \\wv) \\\\\n",
    "= \\Prec_n^{-1}\n",
    "(\\Prec_0 \\muv_0 + \\X^T \\yv)\n",
    "$$"
   ]
  },
  {
   "cell_type": "markdown",
   "metadata": {},
   "source": [
    "$$\n",
    "a_n = a_0 + \\frac{n}{2} \\\\\n",
    "b_n = b_0 + \\frac{1}{2}(\n",
    "\\yv^T \\yv + \\muv_0^T \\Prec_0 \\muv_0 - \\muv_n^T \\Prec_n \\muv_n)\n",
    "$$"
   ]
  },
  {
   "cell_type": "code",
   "execution_count": 85,
   "metadata": {},
   "outputs": [],
   "source": [
    "a_0 = 1\n",
    "b_0 = 1\n",
    "# prec_0 = torch.zeros(order + 1, order + 1)\n",
    "prec_0 = torch.eye(order + 1)\n",
    "# print('prec_0', prec_0)\n",
    "mu_0 = torch.zeros(order + 1, 1)\n",
    "\n",
    "X = x_samples_aug\n",
    "Y = y_samples.view(-1, 1)\n",
    "N = num_samples\n",
    "\n",
    "prec_n = X.transpose(0, 1) @ X + prec_0\n",
    "# print('prec_n', prec_n)\n",
    "mu_n = prec_n.inverse() @ ((prec_0 @ mu_0) + X.transpose(0, 1) @ Y)\n",
    "# print('mu_n', mu_n)\n",
    "a_n = a_0 + N / 2\n",
    "b_n = b_0 + 0.5 * (Y.transpose(0, 1) @ Y + mu_0.transpose(0, 1) @ prec_0 @ mu_0 \\\n",
    "    - mu_n.transpose(0, 1) @ prec_n @ mu_n)\n",
    "\n",
    "\n",
    "# print('mu_n', mu_n)\n",
    "# print('a_n', a_n)\n",
    "# print('b_n', b_n)"
   ]
  },
  {
   "cell_type": "markdown",
   "metadata": {},
   "source": [
    "# sample from the dist"
   ]
  },
  {
   "cell_type": "code",
   "execution_count": 86,
   "metadata": {},
   "outputs": [
    {
     "name": "stderr",
     "output_type": "stream",
     "text": [
      "/Users/hugh2/conda3/envs/pytorch/lib/python3.6/site-packages/ipykernel_launcher.py:6: RuntimeWarning: covariance is not positive-semidefinite.\n",
      "  \n"
     ]
    },
    {
     "data": {
      "image/png": "[encoded data removed]",
      "text/plain": [
       "<matplotlib.figure.Figure at 0x1185d4e48>"
      ]
     },
     "metadata": {},
     "output_type": "display_data"
    }
   ],
   "source": [
    "num_line_samples = 10\n",
    "\n",
    "for i in range(num_line_samples):\n",
    "    var = np.random.wald(a_n, b_n[0][0])\n",
    "    cov = prec_n.inverse().numpy() / var\n",
    "    w = np.random.multivariate_normal(mu_n.view(-1).numpy(), cov)\n",
    "#     print('w', w)\n",
    "#     print('a_n', a_n, 'b_n', b_n)\n",
    "#     print('var', var)\n",
    "    y = x2 @ torch.from_numpy(w).float()\n",
    "    plt.plot(x1.numpy(), y.numpy())\n",
    "\n",
    "plt.scatter(x_samples.numpy(), y_samples.numpy())\n",
    "plt.show()"
   ]
  }
 ],
 "metadata": {
  "kernelspec": {
   "display_name": "Python 3",
   "language": "python",
   "name": "python3"
  },
  "language_info": {
   "codemirror_mode": {
    "name": "ipython",
    "version": 3
   },
   "file_extension": ".py",
   "mimetype": "text/x-python",
   "name": "python",
   "nbconvert_exporter": "python",
   "pygments_lexer": "ipython3",
   "version": "3.6.2"
  }
 },
 "nbformat": 4,
 "nbformat_minor": 2
}
