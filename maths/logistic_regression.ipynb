{
 "cells": [
  {
   "cell_type": "markdown",
   "metadata": {},
   "source": [
    "# logistic regression"
   ]
  },
  {
   "cell_type": "markdown",
   "metadata": {},
   "source": [
    "Target is:\n",
    "\n",
    "$$\n",
    "y \\in \\{0, 1\\}\n",
    "$$\n",
    "\n",
    "(since classification problem)\n",
    "\n",
    "We will fit:\n",
    "\n",
    "$$\n",
    "\\hat{y} = f(\\mathbf{x}, \\mathbf{\\theta}) = \\sigma(\\mathbf{\\theta}^T \\mathbf{x})\n",
    "$$\n",
    "\n",
    "for $\\mathbf{x}_1, \\mathbf{x}_2, \\dots, \\mathbf{x}_n$\n",
    "\n",
    "where we have $n$ datapoints, and targets similarly are correspondingly $y_1, y_2, \\dots, y_n$."
   ]
  },
  {
   "cell_type": "markdown",
   "metadata": {},
   "source": [
    "MSE is:\n",
    "\n",
    "$$\n",
    "L = \\frac{1}{n} \\sum_{i=1}^n (\\sigma(\\theta^T\\mathbf{x}_i) - y_i)^2\n",
    "$$"
   ]
  },
  {
   "cell_type": "markdown",
   "metadata": {},
   "source": [
    "How to differentiate $\\sigma(x)$?\n",
    "\n",
    "We have:\n",
    "\n",
    "$$\n",
    "\\sigma(x) = \\frac{1}{1 + e^{-x}} = (1 + e^{-x})^{-1}\n",
    "$$"
   ]
  },
  {
   "cell_type": "markdown",
   "metadata": {},
   "source": [
    "So:\n",
    "    \n",
    "$$\n",
    "\\frac{d \\sigma(x)}{dx} = (-1)(1 + e^{-x})^{-2}(e^{-x}(-1))\n",
    "$$"
   ]
  },
  {
   "cell_type": "markdown",
   "metadata": {},
   "source": [
    "$$\n",
    "= \\frac{e^{-x}}{(1+e^{-x})^2}\n",
    "$$"
   ]
  },
  {
   "cell_type": "markdown",
   "metadata": {},
   "source": [
    "What about differentiating $\\sigma(f(x))$?\n",
    "\n",
    "We have:\n",
    "\n",
    "$$\n",
    "\\sigma(f(x)) = (1 + e^{-f(x)})^{-1}\n",
    "$$"
   ]
  },
  {
   "cell_type": "markdown",
   "metadata": {},
   "source": [
    "So:\n",
    "\n",
    "$$\n",
    "\\frac{d(\\sigma(f(x))}{dx} = (-1)(1 + e^{-f(x)})^{-2}(e^{-f(x)}(-df(x)/dx)\n",
    "$$"
   ]
  },
  {
   "cell_type": "markdown",
   "metadata": {},
   "source": [
    "$$\n",
    "= \\frac{e^{-f(x)} df(x)/dx}\n",
    "  {(1 + e^{-f(x)})^2}\n",
    "$$"
   ]
  },
  {
   "cell_type": "markdown",
   "metadata": {},
   "source": [
    "differentiate wrt $\\mathbf{\\theta}_m$:\n",
    "\n",
    "$$\n",
    "\\frac{\\partial L}{d \\theta_m}\n",
    "= \\frac{1}{n} \\sum_{i=1}^n \\left(\n",
    "    2(\\sigma(\\theta^T \\mathbf{x}_i) - y_i)\n",
    "    \\frac{}\n",
    "       {}\n",
    "\\right)\n",
    "$$"
   ]
  },
  {
   "cell_type": "markdown",
   "metadata": {},
   "source": [
    "Let's write $\\theta^T \\mathbf{x}$ as $\\theta'^T\\mathbf{x}' + \\theta_i x_i$ where $\\theta = \\theta' + \\{ \\theta_i \\}$, and $\\mathbf{x} = \\mathbf{x}' + \\{ x_i \\}$. Then we have:\n",
    "\n",
    "$$\n",
    "L = \\frac{1}{n} \\sum_{i=1}^n \\left(\n",
    "   \\frac{1}{1 + e^{-\\theta'^T\\mathbf{x}'_i - \\theta_j x_{i,j}}} - y_i\n",
    "\\right)^2\n",
    "$$\n"
   ]
  },
  {
   "cell_type": "markdown",
   "metadata": {},
   "source": [
    "Take:\n",
    "\n",
    "$$\n",
    "L_i = \\left(\n",
    "   \\frac{1}\n",
    "      {1 + \\exp(-\\theta'^T\\mathbf{x}'_i - \\theta_j x_{i,j})}\n",
    "      - y_i\n",
    "\\right)^2\n",
    "$$"
   ]
  },
  {
   "cell_type": "markdown",
   "metadata": {},
   "source": [
    "For the term $1/(1 + \\exp(- \\theta'^T\\mathbf{x}_i - \\theta_j x_{i,j}))$, the derivative with repsect to $\\theta_j$ is:\n"
   ]
  },
  {
   "cell_type": "markdown",
   "metadata": {},
   "source": [
    "$$\n",
    "-(1 + \\exp(-\\theta'^T\\mathbf{x}'_i - \\theta_j x_{i,j})^{-2}\\exp(-\\theta'^T\\mathbf{x'}_i - \\theta_j x_{i,j})(-x_{i,j})\n",
    "$$"
   ]
  },
  {
   "cell_type": "markdown",
   "metadata": {},
   "source": [
    "$$\n",
    "= \\frac{x_{i,j}\\exp(-\\theta'^T\\mathbf{x}'_i - \\theta_j x_{i,j})}\n",
    "  {(1 + \\exp(-\\theta'^T\\mathbf{x}'_i - \\theta_j x_{i,j})^2}\n",
    "$$"
   ]
  },
  {
   "cell_type": "markdown",
   "metadata": {},
   "source": [
    "So:\n",
    "\n",
    "$$\n",
    "\\frac{\\partial L }\n",
    "  {\\partial \\theta_j }\n",
    "  = \\frac{1}{n} \\sum_{i=1}^n\n",
    "  \\frac{\\partial\\mathcal{L}_i}\n",
    "     {\\partial \\theta_j}\n",
    "$$"
   ]
  },
  {
   "cell_type": "markdown",
   "metadata": {},
   "source": [
    "$$\n",
    "=\n",
    "\\frac{\\partial L }\n",
    "  {\\partial \\theta_j }\n",
    "  = \\frac{1}{n} \\sum_{i=1}^n\n",
    "  \\frac{x_{i,j}\\exp(-\\theta'^T\\mathbf{x}'_i - \\theta_j x_{i,j})}\n",
    "  {(1 + \\exp(-\\theta'^T\\mathbf{x}'_i - \\theta_j x_{i,j}))^2}\n",
    "$$"
   ]
  },
  {
   "cell_type": "markdown",
   "metadata": {},
   "source": [
    "$$\n",
    "=\n",
    "\\frac{\\partial L }\n",
    "  {\\partial \\theta_j }\n",
    "  = \\frac{1}{n} \\sum_{i=1}^n\n",
    "  \\frac{x_{i,j}\\exp(-\\theta^T\\mathbf{x}_i)}\n",
    "  {(1 + \\exp(-\\theta^T\\mathbf{x}_i))^2}\n",
    "$$"
   ]
  },
  {
   "cell_type": "markdown",
   "metadata": {},
   "source": [
    "$$\n",
    "=\n",
    "\\frac{\\partial L }\n",
    "  {\\partial \\theta_j }\n",
    "  = \\frac{1}{n} \\sum_{i=1}^n\n",
    "  x_{i,j}\\exp(-\\theta^T\\mathbf{x}_i)\\,\\sigma(-\\theta^T \\mathbf{x}_i)\n",
    "$$"
   ]
  },
  {
   "cell_type": "markdown",
   "metadata": {},
   "source": [
    "## attempt using probability"
   ]
  },
  {
   "cell_type": "markdown",
   "metadata": {},
   "source": [
    "We have:\n",
    "\n",
    "- data points $\\mathbf{x}_1, \\mathbf{x}_2, \\dots, \\mathbf{x}_n$\n",
    "- targets $y_i \\in \\{0, 1\\}$ for $i \\in \\{1,2,\\dots,n\\}$"
   ]
  },
  {
   "cell_type": "markdown",
   "metadata": {},
   "source": [
    "We want to model y as:\n",
    "\n",
    "$$\n",
    "p(y=1 \\mid \\mathbf{\\theta}, \\mathbf{x}) = f(\\mathbf{x}, \\theta)\n",
    "= \\sigma(\\theta^T \\mathbf{x})\n",
    "$$\n"
   ]
  },
  {
   "cell_type": "markdown",
   "metadata": {},
   "source": [
    "We want to choose a $\\theta$ which maximizes $p(\\theta \\mid \\mathcal{X}, \\mathcal{Y})$, ie 'maximum likelihood' solution. Alternative solutions, which might be different include:\n",
    "- ~~marginalize over all \\theta~~  Find the expected value of $\\theta$, given a prior over $\\theta$, ie some $p(\\theta)$, and the data, by first finding some posterior distribution for $\\theta$: $p(\\theta \\mid \\mathcal{X}, \\mathcal{Y})$, and then ~~marginalizing over all $\\theta$, for each prediction: \\hat{y} = \\int_\\theta p(\\theta \\mid \\mathcal{X}, \\mathcal{Y})\\, f(\\mathcal{\\hat{x}}, \\theta)\\,d\\theta~~ finding the expected value of $\\theta$: $\\hat{\\theta} = \\mathbb{E}_{p(\\theta \\mid \\mathcal{X}, \\mathcal{Y})}[\\theta]$\n"
   ]
  },
  {
   "cell_type": "markdown",
   "metadata": {},
   "source": [
    "The likelihood function is:\n",
    "\n",
    "$$\n",
    "\\mathcal{L}_\\theta = p( \\mathcal{X}, \\mathcal{Y} \\mid \\theta)\n",
    "$$"
   ]
  },
  {
   "cell_type": "markdown",
   "metadata": {},
   "source": [
    "$$\n",
    "= \\prod_{i=1}^n p(\\mathbf{x}_i, y_i \\mid \\theta)\n",
    "$$"
   ]
  },
  {
   "cell_type": "markdown",
   "metadata": {},
   "source": [
    "log likelihood is:\n",
    "\n",
    "$$\n",
    "\\log \\mathcal{L}_\\theta = \\sum_{i=1}^n \\log p(\\mathbf{x}_i, y_i \\mid \\theta)\n",
    "$$"
   ]
  },
  {
   "cell_type": "markdown",
   "metadata": {},
   "source": [
    "$$\n",
    "\\def\\x{\\mathbf{x}}\n",
    "\\def\\thetav{\\mathbf{\\theta}}\n",
    "p(\\x_i, y_i \\mid \\thetav) = (\\sigma(\\thetav^T \\x_i))^{y_i}(1-\\sigma(\\thetav^T \\x_i ))^{(1-y_i)}\n",
    "$$\n",
    "\n",
    "(since $y_i$ is either $0$, or $1$, so one of these terms will be 1, and the other non-one, so prodding them is correct.  For example, sum would not be correct, since it would be offset by $1$ :) )"
   ]
  },
  {
   "cell_type": "markdown",
   "metadata": {},
   "source": [
    "So:\n",
    "    \n",
    "$$\n",
    "\\log p(\\x_i, y_i \\mid \\thetav) = \\log \\left(\n",
    "   \\sigma(\\thetav^T\\x_i)^{y_i}(1 - \\sigma(\\thetav^T\\x_i))^{(1 - y_i)}\n",
    "\\right)\n",
    "$$"
   ]
  },
  {
   "cell_type": "markdown",
   "metadata": {},
   "source": [
    "$$\n",
    "=\n",
    "y_i \\log (\\sigma(\\thetav^T\\x_i)) + \n",
    "(1 - y_i) \\log (1 - \\sigma(\\thetav^T\\x_i))\n",
    "$$"
   ]
  },
  {
   "cell_type": "markdown",
   "metadata": {},
   "source": [
    "So:\n",
    "\n",
    "$$\n",
    "\\log \\mathcal{L}_\\thetav = \\sum_{i=1}^n \\left(\n",
    "   y_i \\log(\\sigma(\\thetav^T \\x_i))\n",
    "   +\n",
    "   (1 - y_i) \\log(1 - \\sigma(\\thetav^T \\x_i))\n",
    "\\right)\n",
    "$$"
   ]
  },
  {
   "cell_type": "markdown",
   "metadata": {},
   "source": [
    "To maximize the log likelihood, we should take the derivative with respect to each $\\theta_m$, and eg use gradient ascent on this."
   ]
  },
  {
   "cell_type": "markdown",
   "metadata": {},
   "source": [
    "$$\n",
    "\\frac{\\partial \\log \\mathcal{L}_\\thetav}\n",
    "  {\\partial \\theta_m}\n",
    "= \\sum_{i=1}^n  \\frac{ \\partial \\mathcal{L}_\\thetav^i }{\\partial \\theta_m}\n",
    "$$"
   ]
  },
  {
   "cell_type": "markdown",
   "metadata": {},
   "source": [
    "where we define:\n",
    "\n",
    "$$\n",
    "\\mathcal{L}_\\thetav^i = y_i \\log(\\sigma(\\thetav^T \\x_i)) + (1-y_i) \\log( 1 - \\sigma(\\thetav^T \\x_i))\n",
    "$$"
   ]
  },
  {
   "cell_type": "markdown",
   "metadata": {},
   "source": [
    "Let's define $\\x'_i$ to be such that $\\x_i = \\x'_i + \\{ x_{i,j} \\}$, and $\\theta'$ to be such that $\\thetav = \\theta' + \\{ \\theta_j \\}$\n",
    "\n",
    "So, looking at the left hand expression, we have\n",
    "\n",
    "$$\n",
    "\\frac{\\partial y_i \\log(\\sigma(\\theta'^T \\x'_i + \\theta_m x_{i,m}))}\n",
    "  {\\partial \\theta_m}\n",
    "$$"
   ]
  },
  {
   "cell_type": "markdown",
   "metadata": {},
   "source": [
    "$$\n",
    "= \\frac{y_i}\n",
    "  {\\sigma(\\theta'^T \\x'_i + \\theta_m x_{i,m}))}\n",
    "  \\frac{\\partial \\sigma(\\theta'^T \\x'_i + \\theta_m x_{i,m}))}\n",
    "    {\\partial \\theta_m}\n",
    "$$"
   ]
  },
  {
   "cell_type": "markdown",
   "metadata": {},
   "source": [
    "$$\n",
    "= \\frac{y_i}\n",
    "  {\\sigma(\\thetav^T \\x_i)}\n",
    "  \\frac{\\partial( \\sigma(\\theta_m x_{i,m}))}\n",
    "    {\\partial \\theta_m}\n",
    "$$"
   ]
  },
  {
   "cell_type": "markdown",
   "metadata": {},
   "source": [
    "## Interlude: derivative of sigmoid function\n",
    "\n",
    "Using https://math.stackexchange.com/questions/78575/derivative-of-sigmoid-function-sigma-x-frac11e-x/1225116#1225116 as a reference:\n",
    "\n",
    "Let's say we want to find the derivative of $y = \\sigma(x) = (1 + \\exp(-x))^{-1}$. So we have:\n",
    "\n",
    "$$\n",
    "\\frac{dy}{dx}\n",
    "= (-1)(1 + \\exp(-x))^{-2}(\\exp(-x))(-1)\n",
    "$$"
   ]
  },
  {
   "cell_type": "markdown",
   "metadata": {},
   "source": [
    "$$\n",
    "= \\frac{\\exp(-x)}\n",
    "  {(1 + \\exp(-x))^2}\n",
    "$$"
   ]
  },
  {
   "cell_type": "markdown",
   "metadata": {},
   "source": [
    "$$\n",
    "= \\frac{1 + \\exp(-x) -1}\n",
    "  {(1 + \\exp(-x))^2}\n",
    "$$"
   ]
  },
  {
   "cell_type": "markdown",
   "metadata": {},
   "source": [
    "$$\n",
    "= \\frac{1 + \\exp(-x)}\n",
    "  {(1 + \\exp(-x))^2}\n",
    "  -\n",
    "  \\frac{1}\n",
    "    {(1 + \\exp(-x))^2}\n",
    "$$"
   ]
  },
  {
   "cell_type": "markdown",
   "metadata": {},
   "source": [
    "$$\n",
    "= \\sigma(x) - (\\sigma(x))^2\n",
    "$$"
   ]
  },
  {
   "cell_type": "markdown",
   "metadata": {},
   "source": [
    "$$\n",
    "= \\sigma(x)(1 - \\sigma(x))\n",
    "$$"
   ]
  },
  {
   "cell_type": "markdown",
   "metadata": {},
   "source": [
    "Ok, but in our case we have something more like $y = \\sigma(f(x)) = (1 + \\exp(-f(x))^{-1}$. What is the derivative of this?"
   ]
  },
  {
   "cell_type": "markdown",
   "metadata": {},
   "source": [
    "$$\n",
    "\\frac{dy}{dx} = (-1)(1 + \\exp(-f(x)))^{-2}(\\exp(-f(x))(-f'(x))\n",
    "$$"
   ]
  },
  {
   "cell_type": "markdown",
   "metadata": {},
   "source": [
    "So, a factor of $f'(x)$ greater than the earlier derivative, and we need to substitute $x$ by $f(x)$. So the derivative in this case will be:"
   ]
  },
  {
   "cell_type": "markdown",
   "metadata": {},
   "source": [
    "$$\n",
    "f'(x)\\sigma(f(x))(1 - \\sigma(f(x)))\n",
    "$$"
   ]
  },
  {
   "cell_type": "markdown",
   "metadata": {},
   "source": [
    "## (end of interlude)"
   ]
  },
  {
   "cell_type": "markdown",
   "metadata": {},
   "source": [
    "Therefore:\n",
    "\n",
    "$$\n",
    "\\frac{ \\partial( \\sigma(\\theta_m x_{i,m}))}\n",
    "  {\\partial \\theta_m}\n",
    "$$"
   ]
  },
  {
   "cell_type": "markdown",
   "metadata": {},
   "source": [
    "$$\n",
    "= x_{i,m}\\, \\sigma(\\theta_m x_{i,m})(1 - \\sigma(\\theta_m x_{i,m}))\n",
    "$$"
   ]
  },
  {
   "cell_type": "markdown",
   "metadata": {},
   "source": [
    "## attempt 2 at probability loss derivative"
   ]
  },
  {
   "cell_type": "markdown",
   "metadata": {},
   "source": [
    "using derivation at bottom of http://ucanalytics.com/blogs/gradient-descent-logistic-regression-simplified-step-step-visual-guide/ as a guide, ie chain-ruling the loss function"
   ]
  },
  {
   "cell_type": "markdown",
   "metadata": {},
   "source": [
    "We want:\n",
    "\n",
    "$$\n",
    "\\frac{\\partial \\log \\mathcal{L_i}}\n",
    "  {\\partial \\theta_j}\n",
    "$$\n",
    "\n",
    "for each $j \\in \\{1, \\dots, m \\}$"
   ]
  },
  {
   "cell_type": "markdown",
   "metadata": {},
   "source": [
    "We have:\n",
    "\n",
    "$$\n",
    "\\log \\mathcal{L}_i = y_i \\log (\\sigma(\\thetav^T\\x_i)) + \n",
    "(1 - y_i) \\log (1 - \\sigma(\\thetav^T\\x_i))\n",
    "$$"
   ]
  },
  {
   "cell_type": "markdown",
   "metadata": {},
   "source": [
    "We can substitute a variable for $\\theta^T \\mathbf{x}_i$, which is called  the 'logits'. Let's denote this variable as $F(\\thetav, \\mathbf{x}_i) = \\thetav^T \\mathbf{x}_i$. So we have:\n",
    "\n",
    "$$\n",
    "\\log \\mathcal{L}_i = y_i \\log(F) + (1 - y_i)\\log(1 - F)\n",
    "$$"
   ]
  },
  {
   "cell_type": "markdown",
   "metadata": {},
   "source": [
    "And using the chain rule we have:\n",
    "\n",
    "$$\n",
    "\\frac{\\partial \\log \\mathcal{L}_i }\n",
    "  {\\partial \\theta_j}\n",
    "  = \\frac{\\partial \\log \\mathcal{L}_i}\n",
    "     {\\partial F}\n",
    "   \\frac{\\partial F}\n",
    "     {\\partial \\theta_j}\n",
    "$$"
   ]
  },
  {
   "cell_type": "markdown",
   "metadata": {},
   "source": [
    "Next, let's substitute the linear function $\\thetav^T \\mathbf{x}_i$ as the variable $z_i$ (which is a scalar, since it's the result of a dot product). So we have:\n",
    "\n",
    "$$\n",
    "F = \\sigma(z_i(\\thetav, \\x_i))\n",
    "$$"
   ]
  },
  {
   "cell_type": "markdown",
   "metadata": {},
   "source": [
    "And thus, using chain rule on $F$ we have:\n",
    "\n",
    "$$\n",
    "\\frac{ \\partial F}\n",
    "  {\\partial \\theta_j}\n",
    "  = \\frac{\\partial F}\n",
    "    {\\partial z_i}\n",
    "    \\frac{\\partial z_i}\n",
    "      {\\partial \\theta_j}\n",
    "$$"
   ]
  },
  {
   "cell_type": "markdown",
   "metadata": {},
   "source": [
    "Finally the entire chain rule expression for the derivative of the log loss will be:\n",
    "\n",
    "$$\n",
    "\\frac{\\partial \\log \\mathcal{L}_i}\n",
    "  {\\partial \\theta_j}\n",
    " = \\frac{\\partial \\log \\mathcal{L}_i }\n",
    "   {\\partial F}\n",
    "   \\frac{\\partial F}\n",
    "     {\\partial z_i}\n",
    "    \\frac{\\partial z_i}\n",
    "      {\\partial \\theta_j}\n",
    "$$"
   ]
  },
  {
   "cell_type": "markdown",
   "metadata": {},
   "source": [
    "Looking at each term, one by one, we have:\n",
    "\n",
    "$$\n",
    "\\frac{\\partial \\log \\mathcal{L}_i}\n",
    "  {\\partial F}\n",
    "  = y_i \\frac{1}\n",
    "     {F}\n",
    "     + (1 - y_i) \\frac{-1}{1 - F}\n",
    "$$"
   ]
  },
  {
   "cell_type": "markdown",
   "metadata": {},
   "source": [
    "$$\n",
    "= \\frac{y_i(1 - F) - (1 - y_i)F}\n",
    "   {F(1 - F)}\n",
    "$$"
   ]
  },
  {
   "cell_type": "markdown",
   "metadata": {},
   "source": [
    "$$\n",
    "= \\frac{y_i -Fy_i - F + Fy_i}{F(1-F)}\n",
    "$$"
   ]
  },
  {
   "cell_type": "markdown",
   "metadata": {},
   "source": [
    "$$\n",
    "= \\frac{y_i - F}{F(F - 1)}\n",
    "$$"
   ]
  },
  {
   "cell_type": "markdown",
   "metadata": {},
   "source": [
    "or we can also write as:\n",
    "\n",
    "$$\n",
    "\\frac{\\partial \\log \\mathcal{L}_i}{\\partial F} =\n",
    "\\frac{y_i}{F}\n",
    "+ \\frac{1- y_i}{F - 1}\n",
    "$$"
   ]
  },
  {
   "cell_type": "markdown",
   "metadata": {},
   "source": [
    "Looking at the next term, we have:\n",
    "\n",
    "$$\n",
    "\\frac{\\partial F }{\\partial z_i}\n",
    "=\n",
    "\\frac{\\partial}{\\partial z_i}\n",
    "\\sigma(z_i)\n",
    "$$"
   ]
  },
  {
   "cell_type": "markdown",
   "metadata": {},
   "source": [
    "$$\n",
    "= \\sigma(z_i)(1 - \\sigma(z_i))\n",
    "$$\n",
    "\n",
    "(as derived earlier)"
   ]
  },
  {
   "cell_type": "markdown",
   "metadata": {},
   "source": [
    "Lastly we have:\n",
    "\n",
    "$$\n",
    "\\frac{\\partial z_i}{\\partial \\theta_j}\n",
    "= \\frac{\\partial }{\\partial \\theta_j}\n",
    "\\thetav^T \\mathbf{x}_i\n",
    "$$"
   ]
  },
  {
   "cell_type": "markdown",
   "metadata": {},
   "source": [
    "$$\n",
    "= x_{i,j}\n",
    "$$"
   ]
  },
  {
   "cell_type": "markdown",
   "metadata": {},
   "source": [
    "So, overall, we have:\n",
    "\n",
    "$$\n",
    "\\frac{\\partial \\log \\mathcal{L}_i}\n",
    "  {\\partial \\theta_j}\n",
    "  = \\frac{\\partial \\log \\mathcal{L}_i}{\\partial F}\n",
    "  \\frac{\\partial F}{\\partial z_i}\n",
    "  \\frac{\\partial z_i}{\\partial \\theta_j}\n",
    "$$"
   ]
  },
  {
   "cell_type": "markdown",
   "metadata": {},
   "source": [
    "$$\n",
    "= \\left(\n",
    "  \\frac{y_i}{F} + \\frac{1-y_i}{F - 1}\n",
    "\\right)\n",
    "\\cdot\n",
    "   \\sigma(z_i) \\cdot (1 - \\sigma(z_i))\n",
    "\\cdot\n",
    "x_{i,j}\n",
    "$$"
   ]
  },
  {
   "cell_type": "markdown",
   "metadata": {},
   "source": [
    "$$\n",
    "= \\frac{y_i - F}{F(F - 1)}\n",
    "\\cdot F(1 - F)\n",
    "\\cdot x_{i,j}\n",
    "$$"
   ]
  },
  {
   "cell_type": "markdown",
   "metadata": {},
   "source": [
    "$$\n",
    "= (F - y_i) x_{i,j}\n",
    "$$"
   ]
  },
  {
   "cell_type": "markdown",
   "metadata": {},
   "source": [
    "So, for all dimensions $j \\in \\{1, \\dots, m \\}$, we have:\n",
    "\n",
    "$$\n",
    "\\nabla_\\thetav \\log \\mathcal{L}_i\n",
    "= (F - y_i)\\mathbf{x}_i\n",
    "$$"
   ]
  },
  {
   "cell_type": "markdown",
   "metadata": {},
   "source": [
    "Finally, for all $i \\in \\{1, \\dots, n \\}$, we have:\n",
    "\n",
    "$$\n",
    "\\nabla_\\theta \\log \\mathcal{L} = \n",
    "\\sum_{i=1}^n (F - y_i) \\x_i\n",
    "$$"
   ]
  }
 ],
 "metadata": {
  "kernelspec": {
   "display_name": "Python 3",
   "language": "python",
   "name": "python3"
  },
  "language_info": {
   "codemirror_mode": {
    "name": "ipython",
    "version": 3
   },
   "file_extension": ".py",
   "mimetype": "text/x-python",
   "name": "python",
   "nbconvert_exporter": "python",
   "pygments_lexer": "ipython3",
   "version": "3.6.1"
  }
 },
 "nbformat": 4,
 "nbformat_minor": 2
}
