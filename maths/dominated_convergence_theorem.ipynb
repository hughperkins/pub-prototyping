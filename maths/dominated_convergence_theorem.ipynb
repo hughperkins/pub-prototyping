{
 "cells": [
  {
   "cell_type": "markdown",
   "metadata": {},
   "source": [
    "# Dominated convergence theorem\n",
    "\n",
    "From https://en.wikipedia.org/wiki/Dominated_convergence_theorem"
   ]
  },
  {
   "cell_type": "markdown",
   "metadata": {},
   "source": [
    "\"In measure theory, Lebesgue's dominated convergence theorem provides sufficient conditions under which almost everywhere convergence of a sequence of functions implies convergence in the $L^1$ norm. Its power and utility are two fo the primary theoretical advantage of Lesbesgue integration over Riemann integration.\n",
    "\n",
    "\"It is widely used in probability theory, since it gives a sufficient condition for the convergence of expected values of random variables.\""
   ]
  },
  {
   "cell_type": "markdown",
   "metadata": {},
   "source": [
    "## Statement of the theorem\n",
    "\n",
    "__Lebesgue's Dominated Convergence Theorem__ Let $\\{ f_n \\}$ be a sequence of real-valued measurable functions on a measurement space $(S, \\Sigma, \\mu )$. Suppose that the sequence converges pointwise to a function $f$ and is dominated by some integrable function $g$ in the sense that:\n",
    "\n",
    "$$\n",
    "|f_n(x)| \\le g(x)\n",
    "$$\n",
    "\n",
    "for all numbers $n$ in the index set of the sequence and all points $x \\in S$. Then $f$ is integrable and \n",
    "\n",
    "$$\n",
    "\\lim_{n \\rightarrow \\infty} \\int_S \\left| f_n - f \\right|\\,d\\mu = 0\n",
    "$$"
   ]
  },
  {
   "cell_type": "markdown",
   "metadata": {},
   "source": [
    "which also implies:\n",
    "\n",
    "$$\n",
    "\\lim_{n \\rightarrow \\infty} \\int_S f_n \\,d\\mu\n",
    "= \\int_S f\\,d\\mu\n",
    "$$"
   ]
  },
  {
   "cell_type": "markdown",
   "metadata": {},
   "source": [
    "__Remark 1__ \"The statement 'g is integrable' is meant in the sense of Lebesgue, ie:\n",
    "\n",
    "$$\n",
    "\\int_S |g|\\,d\\mu < \\infty\n",
    "$$"
   ]
  },
  {
   "cell_type": "markdown",
   "metadata": {},
   "source": [
    "__Remark 2__ \"The convergence of the sequence and domination by $g$ can be relaxed to hold only $\\mu$-almost everywhere provided the measure space $(S, \\Sigma, \\mu)$ is complete or $f$ is chosen as a measurable function which agrees $\\mu$-almost everywhere with the $\\mu$-almost everywhere existing pointwise limit. (These precautions are necessary, because otherwise there might exist a non-measurable subset of a $\\mu$-null set $N \\in \\Sigma$, hence $f$ might not be measurable)."
   ]
  },
  {
   "cell_type": "markdown",
   "metadata": {},
   "source": [
    "__Remark 3__ \"If $\\mu(S) < \\infty$, the condition that there is a dominating integrable function $g$ can be relaxed to uniform integrabiity of the sequence $\\{f_n \\}$, see Vitali convergence theorem.\""
   ]
  },
  {
   "cell_type": "markdown",
   "metadata": {},
   "source": [
    "From http://math.ncku.edu.tw/~rchen/2016%20Teaching/The%20dominated%20convergence%20theorem%20and%20applications.pdf :\n"
   ]
  },
  {
   "cell_type": "markdown",
   "metadata": {},
   "source": [
    "\n",
    "__Theorem 4.3.1 (Lebesgue dominated convergence theorem)__ \"Suppose $f_n: \\mathbb{R} \\rightarrow [-\\infty, \\infty]$ are (Lebesgue) measurable functions such that the pointwise limit $f(x) = \\lim_{n \\rightarrow \\infty} f_n(x)$ exists. Assume there is an integrable $g: \\mathbb{R} \\rightarrow [0, \\infty]$ with $|f_n(x) | \\le g(x)$ for each $x \\in \\mathbb{R}$. Then $f$ is integrable as is $f_n$ for each $n$, and:\n",
    "\n",
    "$$\n",
    "\\lim_{n \\rightarrow \\infty} \\int_\\mathbb{R} f_n\\, d\\mu\n",
    "= \\int_\\mathbb{R} \\lim_{n \\rightarrow \\infty} f_n\\,d\\mu\n",
    "= \\int_\\mathbb{R} f\\,d\\mu\n",
    "$$\n"
   ]
  },
  {
   "cell_type": "markdown",
   "metadata": {},
   "source": [
    "__Theorem 4.4.1 (Continuity of integrals)__ \"Assume $f: \\mathbb{R} \\times \\mathbb{R} \\rightarrow \\mathbb{R}$ is such that $x \\mapsto f^{[t]}(x) = f(x,t)$ is measurable for each $t \\in \\mathbb{R}$ and $t \\mapsto f(x,t)$ is continuous for each $x \\in \\mathbb{R}$. Assume also that there is an integrable $g:\\mathbb{R} \\rightarrow \\mathbb{R}$ with $\\left|f(x,t)\\right| \\le g(x)$ for each $x,t\\in\\mathbb{R}$. Then the function $f^{[t]}$ is integrable for each $t$ and the function $F: \\mathbb{R} \\rightarrow \\mathbb{R}$ defined by:\n",
    "\n",
    "$$\n",
    "F(t) = \\int_\\mathbb{R} f^{[t]}\\,d\\mu\n",
    "= \\int_\\mathbb{R} f(x,t) \\,d\\mu(x)\n",
    "$$\n",
    "\n",
    "... is continuous."
   ]
  },
  {
   "cell_type": "markdown",
   "metadata": {},
   "source": [
    "__Theorem 4.4.3 (Differentiating under the integral sign)__ \"Assume $f: \\mathbb{R} \\times \\mathbb{R} \\rightarrow \\mathbb{R}$ is such that $x \\mapsto f^{[t]}(x) = f(x,t)$ is measurable for each $t \\in \\mathbb{R}$, that $f^{[t_0]}(x) = f(x,t_0)$ is integrable for some $t_0 \\in \\mathbb{R}$ and $\\frac{\\partial f(x,t)}{\\partial t}$ exists for each $(x,t)$. Assume also that there is an integrable $g : \\mathbb{R} \\rightarrow \\mathbb{R}$ with $\\left| \\left. \\frac{\\partial f}{\\partial t} \\right|_{x,t}\\right| \\le g(x)$ for each $x,t\\in \\mathbb{R}$. Then the function $x \\mapsto f(x,t)$ is integrable for each $t$ and the function $F: \\mathbb{R} \\rightarrow \\mathbb{R}$ defined by:\n",
    "\n",
    "$$\n",
    "F(t) = \\int_\\mathbb{R} f_t\\,d\\mu\n",
    "= \\int_\\mathbb{R} f(x,t)\\,d\\mu(x)\n",
    "$$\n",
    "\n",
    "is differentiable with derivative:\n",
    "\n",
    "$$\n",
    "F'(t) = \\frac{d}{dt}\\int_\\mathbb{R} f(x,t)\\,d\\mu(x)\n",
    "= \\int_\\mathbb{R} \\frac{\\partial}{\\partial t} f(x,t)\\,d\\mu(x)\n",
    "$$"
   ]
  }
 ],
 "metadata": {
  "kernelspec": {
   "display_name": "Python 3",
   "language": "python",
   "name": "python3"
  },
  "language_info": {
   "codemirror_mode": {
    "name": "ipython",
    "version": 3
   },
   "file_extension": ".py",
   "mimetype": "text/x-python",
   "name": "python",
   "nbconvert_exporter": "python",
   "pygments_lexer": "ipython3",
   "version": "3.6.1"
  }
 },
 "nbformat": 4,
 "nbformat_minor": 2
}
