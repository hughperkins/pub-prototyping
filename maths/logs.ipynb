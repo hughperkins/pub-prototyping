{
 "cells": [
  {
   "cell_type": "markdown",
   "metadata": {},
   "source": [
    "# Logs"
   ]
  },
  {
   "cell_type": "markdown",
   "metadata": {},
   "source": [
    "$$\n",
    "\\log(ab) = \\log(a) + \\log(b)\n",
    "$$"
   ]
  },
  {
   "cell_type": "code",
   "execution_count": 3,
   "metadata": {},
   "outputs": [
    {
     "name": "stdout",
     "output_type": "stream",
     "text": [
      "-2.3025850929940455\n",
      "-2.3025850929940455\n"
     ]
    }
   ],
   "source": [
    "import math\n",
    "\n",
    "print(math.log(0.2) + math.log(0.5))\n",
    "print(math.log(0.2 * 0.5))"
   ]
  },
  {
   "cell_type": "markdown",
   "metadata": {},
   "source": [
    "$$\n",
    "\\log \\exp(a) = a\n",
    "$$\n",
    "\n",
    "$$\n",
    "\\log (\\exp(a) \\exp(b))\n",
    "= \\log(\\exp(a)) + \\log(\\exp(b))\n",
    "= a + b\n",
    "$$"
   ]
  },
  {
   "cell_type": "code",
   "execution_count": 4,
   "metadata": {},
   "outputs": [
    {
     "name": "stdout",
     "output_type": "stream",
     "text": [
      "0.9\n",
      "0.8999999999999999\n"
     ]
    }
   ],
   "source": [
    "print(math.log(math.exp(0.2) * math.exp(0.7)))\n",
    "print(0.2 + 0.7)"
   ]
  },
  {
   "cell_type": "markdown",
   "metadata": {},
   "source": [
    "$$\n",
    "\\log \\frac{\\exp(a)}{\\exp(b)}\n",
    "= \\log(\\exp(a)) - \\log(\\exp(b))\n",
    "= a - b\n",
    "$$"
   ]
  },
  {
   "cell_type": "markdown",
   "metadata": {},
   "source": [
    "Using product rule, and confirming from  https://en.wikipedia.org/wiki/Exponential_function:\n",
    "\n",
    "$$\n",
    "\\frac{d}{dx}\n",
    "\\exp(f(x))\n",
    "= \\frac{df(x)}{dx}\n",
    "\\exp(f(x))\n",
    "$$"
   ]
  }
 ],
 "metadata": {
  "kernelspec": {
   "display_name": "Python 3",
   "language": "python",
   "name": "python3"
  },
  "language_info": {
   "codemirror_mode": {
    "name": "ipython",
    "version": 3
   },
   "file_extension": ".py",
   "mimetype": "text/x-python",
   "name": "python",
   "nbconvert_exporter": "python",
   "pygments_lexer": "ipython3",
   "version": "3.6.1"
  }
 },
 "nbformat": 4,
 "nbformat_minor": 2
}
