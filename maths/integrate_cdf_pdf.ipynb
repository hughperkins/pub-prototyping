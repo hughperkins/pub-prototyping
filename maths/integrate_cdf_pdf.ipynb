{
 "cells": [
  {
   "cell_type": "markdown",
   "metadata": {},
   "source": [
    "## interlude: try to derive the formula for $\\int \\Phi(\\cdot) \\phi(\\cdot)$"
   ]
  },
  {
   "cell_type": "markdown",
   "metadata": {},
   "source": [
    "Using https://math.stackexchange.com/questions/368512/indefinite-integral-of-product-of-cdf-and-pdf-of-standard-normal-distribution/369091#369091 as a reference"
   ]
  },
  {
   "cell_type": "markdown",
   "metadata": {},
   "source": [
    "We want, using a simplified version for now:\n",
    "\n",
    "$$\n",
    "I_1 = \\int_{-\\infty}^\\infty \\Phi(x)\\phi(x)\\,dx\n",
    "$$"
   ]
  },
  {
   "cell_type": "markdown",
   "metadata": {},
   "source": [
    "And we have:\n",
    "\n",
    "$$\n",
    "\\frac{d}{dx} \\Phi(x) = \\phi(x)\n",
    "$$"
   ]
  },
  {
   "cell_type": "markdown",
   "metadata": {},
   "source": [
    "Using integration by parts, with:\n",
    "\n",
    "- $u(x) = \\Phi(x)$, and\n",
    "- $v'(x) = \\phi(x)$, so that\n",
    "- $v(x) = \\int \\phi(x) \\, dx = \\Phi(x)$"
   ]
  },
  {
   "cell_type": "markdown",
   "metadata": {},
   "source": [
    "So:\n",
    "\n",
    "$$\n",
    "I_1 = \\int_{-\\infty}^\\infty \\Phi(x)\\phi(x)\\,dx \\\\\n",
    "= [\\Phi(x)^2]_{-\\infty}^\\infty - \\int_{-\\infty}^\\infty\n",
    "\\phi(x) \\Phi(x) \\, dx\n",
    "$$"
   ]
  },
  {
   "cell_type": "markdown",
   "metadata": {},
   "source": [
    "$$\n",
    "= 1 - 0 - I_1 = 1 - I_1\n",
    "$$"
   ]
  },
  {
   "cell_type": "markdown",
   "metadata": {},
   "source": [
    "Therefore:\n",
    "\n",
    "$$\n",
    "2I_1 = 1\n",
    "$$\n",
    "\n",
    "And so:\n",
    "\n",
    "$$\n",
    "I_1 = \\frac{1}{2}\n",
    "$$"
   ]
  },
  {
   "cell_type": "markdown",
   "metadata": {},
   "source": [
    "Try now for:\n",
    "\n",
    "$$\n",
    "I_2 = \\int_{-\\infty}^\\infty \\Phi(\\lambda x)\\phi(x)\\, dx\n",
    "$$"
   ]
  },
  {
   "cell_type": "markdown",
   "metadata": {},
   "source": [
    "We can try:\n",
    "\n",
    "- $u(x) = \\Phi(\\lambda x)$, and\n",
    "- $v'(x) = \\phi(x) \\, dx$, so that\n",
    "- $v(x) = \\int \\phi(x) \\, dx = \\Phi(x)$"
   ]
  },
  {
   "cell_type": "markdown",
   "metadata": {},
   "source": [
    "We need to find the derivative of $u(x)$, ie $\\frac{d}{dx}\\Phi(\\lambda x)$"
   ]
  },
  {
   "cell_type": "markdown",
   "metadata": {},
   "source": [
    "Looking at wikipedia, https://en.wikipedia.org/wiki/Normal_distribution , we have:\n",
    "\n",
    "$$\n",
    "\\Phi(x) = \\frac{1}{\\sqrt{2\\pi}} \\int_{-\\infty}^x \\exp\\left(-\\frac{t^2}{2}\\right)\\,dt\n",
    "$$"
   ]
  },
  {
   "cell_type": "markdown",
   "metadata": {},
   "source": [
    "We also have the error function $\\def\\erf{\\text{erf}}\\erf(x)$, defined as the probability of a random variable with normal distribution of mean 0 and variance $1/2$ falling in the range $[-x, x]$; that is:"
   ]
  },
  {
   "cell_type": "markdown",
   "metadata": {},
   "source": [
    "$$\n",
    "\\erf(x) = \\frac{2}{\\sqrt{\\pi}} \\int_0^x \\exp(-t^2)\\,dt\n",
    "$$"
   ]
  },
  {
   "cell_type": "markdown",
   "metadata": {},
   "source": [
    "$\\Phi(x)$ and $\\erf(x)$ are closely related, namely:\n",
    "\n",
    "$$\n",
    "\\Phi(x) = \\frac{1}{2} \\left(\n",
    "  1 + \\erf \\left(\n",
    "      \\frac{x}{\\sqrt{2}}\n",
    "  \\right)\n",
    "\\right)\n",
    "$$"
   ]
  },
  {
   "cell_type": "markdown",
   "metadata": {},
   "source": [
    "\"For a generic normal distribution with density $f$, mean $\\mu$ and deviation $\\sigma$, the cumulative distribution function is:\n",
    "\n",
    "$$\n",
    "F(x) = \\Phi \\left(\n",
    "   \\frac{x - \\mu}{\\sigma}\n",
    "\\right)\n",
    "= \\frac{1}{2} \\left(\n",
    "   1 + \\erf \\left(\n",
    "      \\frac{x - \\mu}{\\sigma \\sqrt{2}}\n",
    "   \\right)\n",
    "\\right)\n",
    "$$"
   ]
  },
  {
   "cell_type": "markdown",
   "metadata": {},
   "source": [
    "Thinking about this, from the definition of what is the CDF for the Gaussian, we can form the following identity:\n",
    "\n",
    "$$\n",
    "\\Phi\\left(\n",
    "   \\frac{x - \\mu}{\\sigma}\n",
    "\\right)\n",
    "= \\frac{1}{\\sqrt{2\\pi \\sigma^2}}\n",
    "\\int_{-\\infty}^x\n",
    "\\exp\\left(\n",
    "   -\\frac{(t - \\mu)^2}{2\\sigma^2}\n",
    "\\right)\n",
    "\\,\n",
    "dt\n",
    "$$"
   ]
  },
  {
   "cell_type": "markdown",
   "metadata": {},
   "source": [
    "substitue in $r = \\frac{ t - \\mu}{\\sigma}$. Therefore:\n",
    "\n",
    "$$\n",
    "t = \\sigma r + \\mu\n",
    "$$\n",
    "\n",
    "Therefore:\n",
    "\n",
    "$$\n",
    "dt/dr = \\sigma\n",
    "$$\n",
    "\n",
    "For the limits, we have $t_1 = -\\infty$, and $t_2 = x$.  Applying the subsitution $r = \\frac{ t - \\mu}{\\sigma}$, we have:\n",
    "\n",
    "$$\n",
    "r_1 = \\frac{t_1 - \\mu}{\\sigma} = \\frac{-\\infty - \\mu }{\\sigma}\n",
    "= -\\infty\n",
    "$$\n",
    "\n",
    "And:\n",
    "\n",
    "$$\n",
    "r_2 = \\frac{t_2 - \\mu}{\\sigma} = \\frac{x - \\mu}{\\sigma}\n",
    "$$\n",
    "\n",
    "So:\n",
    "\n",
    "$$\n",
    "\\Phi\\left(\\frac{x-\\mu}{\\sigma}\\right) = \\frac{1}{\\sqrt{2\\pi\\sigma^2}}\n",
    "\\int_{-\\infty}^{\\frac{x-\\mu}{\\sigma}} \\exp \\left(\n",
    "   - \\frac{r^2}{2}\n",
    "\\right)\n",
    "\\sigma\n",
    "\\, dr\n",
    "$$"
   ]
  },
  {
   "cell_type": "markdown",
   "metadata": {},
   "source": [
    "$$\n",
    "= \\sigma \\frac{1}{\\sqrt{2\\pi\\sigma^2}}\n",
    "\\int_{-\\infty}^{\\frac{x - \\mu}{\\sigma}}\n",
    "\\exp\\left(\n",
    "   - \\frac{r^2}{2}\n",
    "\\right)\n",
    "\\, dr\n",
    "$$"
   ]
  },
  {
   "cell_type": "markdown",
   "metadata": {},
   "source": [
    "$$\n",
    "= \\Phi\\left(\\frac{x - \\mu}{\\sigma}\\right)\n",
    "$$\n",
    "\n",
    "... which is at least consistent"
   ]
  },
  {
   "cell_type": "markdown",
   "metadata": {},
   "source": [
    "We also have, from the wikipedia page:\n",
    "\n",
    "$$\n",
    "\\mathcal{N}(x \\mid \\mu, \\sigma^2) = \\frac{1}{\\sigma} \\phi \\left(\n",
    "   \\frac{x - \\mu}{\\sigma}\n",
    "\\right)\n",
    "$$"
   ]
  },
  {
   "cell_type": "markdown",
   "metadata": {},
   "source": [
    "Therefore:\n",
    "\n",
    "$$\n",
    "\\frac{d}{dx} \\Phi\\left(\n",
    "   \\frac{x - \\mu}{\\sigma}\n",
    "\\right)\n",
    "= \\frac{1}{\\sigma} \\phi\\left(\\frac{x - \\mu}{\\sigma}\\right)\n",
    "$$"
   ]
  },
  {
   "cell_type": "markdown",
   "metadata": {},
   "source": [
    "Therefore, $u'(x) = \\frac{d}{dx}\\Phi(\\lambda x)\n",
    "= \\lambda \\phi(\\lambda x)$"
   ]
  },
  {
   "cell_type": "markdown",
   "metadata": {},
   "source": [
    "So we have:\n",
    "\n",
    "$$\n",
    "I_2 = \\left[ \\Phi(\\lambda x) \\Phi(x) \\right]_{-\\infty}^\\infty\n",
    "- \\lambda \\int_{-\\infty}^\\infty \\phi(\\lambda x) \\Phi(x)\\,dx\n",
    "$$"
   ]
  },
  {
   "cell_type": "markdown",
   "metadata": {},
   "source": [
    "$$\n",
    "= 1 - 0 - \\lambda \\int_{-\\infty}^\\infty \\Phi(x)\\phi(\\lambda x)\\,dx\n",
    "$$"
   ]
  },
  {
   "cell_type": "markdown",
   "metadata": {},
   "source": [
    "substitute $u=\\lambda x$, therefore $x = u / \\lambda$, and $dx = 1/\\lambda\\, du$, So:"
   ]
  },
  {
   "cell_type": "markdown",
   "metadata": {},
   "source": [
    "$$\n",
    "\\lambda \\int_{-\\infty}^\\infty \\Phi(x)\\phi(\\lambda x) \\, dx\n",
    "$$"
   ]
  },
  {
   "cell_type": "markdown",
   "metadata": {},
   "source": [
    "$$\n",
    "= \\lambda \\int_{-\\infty}^\\infty \\Phi(u/\\lambda)\\phi(u) 1/\\lambda \\,du\n",
    "$$"
   ]
  },
  {
   "cell_type": "markdown",
   "metadata": {},
   "source": [
    "$$\n",
    "= \\int_{-\\infty}^\\infty \\Phi(u/\\lambda)\\phi(u)\\,du\n",
    "$$"
   ]
  },
  {
   "cell_type": "markdown",
   "metadata": {},
   "source": [
    "That didnt work"
   ]
  },
  {
   "cell_type": "markdown",
   "metadata": {},
   "source": [
    "Let's try integration by parts again, with:\n",
    "\n",
    "- $u = \\Phi(x)$,\n",
    "- $v'(x) = \\phi(\\lambda x)\\,dx$, and so\n",
    "- $v(x) = \\frac{1}{\\lambda} \\Phi(\\lambda x)$"
   ]
  },
  {
   "cell_type": "markdown",
   "metadata": {},
   "source": [
    "Therefore:\n",
    "\n",
    "$$\n",
    "I_2 = 1 - \\lambda [\\Phi(x)\\frac{1}{\\lambda}\\Phi(\\lambda x)]^\\infty_{-\\infty}\n",
    "+ \\lambda \\int_{-\\infty}^\\infty \\phi(x) \\frac{1}{\\lambda}\\Phi(\\lambda x)\\,dx\n",
    "$$"
   ]
  },
  {
   "cell_type": "markdown",
   "metadata": {},
   "source": [
    "= 1 - 1 + I_2"
   ]
  },
  {
   "cell_type": "markdown",
   "metadata": {},
   "source": [
    "...so that doesnt work either"
   ]
  },
  {
   "cell_type": "markdown",
   "metadata": {},
   "source": [
    "Using https://mathoverflow.net/questions/101469/integration-of-the-product-of-pdf-cdf-of-normal-distribution/101753#101753 as a reference:"
   ]
  },
  {
   "cell_type": "markdown",
   "metadata": {},
   "source": [
    "Question: \"How to calculate $\\int \\phi(x) \\Phi(\\frac{x - b}{a})\\,dx$?\""
   ]
  },
  {
   "cell_type": "markdown",
   "metadata": {},
   "source": [
    "Compared to what we want, we dont need the $-b$ bit, but we will need to generalize from $\\phi(x)$ to $\\mathcal{N}(x \\mid \\mu, S)$. However, let's work through the derivation for this particular form first."
   ]
  },
  {
   "cell_type": "markdown",
   "metadata": {},
   "source": [
    "\"We have $\\phi(x) = \\frac{1}{\\sqrt{2\\pi}}\\exp\\left(-\\frac{t^2}{2}\\right)$ and $\\Phi(x) = \\int_{-\\infty}^x \\phi(t)\\,dt$. We try to compute:\n",
    "\n",
    "$$\n",
    "I(\\mu,\\sigma) = \\int \\phi(x) \\Phi\\left(\\frac{x - \\mu}{\\sigma} \\right)\\,dx\n",
    "$$\n",
    "\n",
    "\"Using the dominated convergence theorem, we are allowed to take the derivative with respect to $\\mu$ inside the integral. We have:\n",
    "\n",
    "$$\n",
    "\\partial_\\mu I(\\mu, \\sigma)\n",
    "= \\int \\phi(x)\n",
    "\\left( - \\frac{1}{a}\\right)\n",
    "\\phi \\left(\n",
    "   \\frac{x - \\mu}{\\sigma}\n",
    "\\right)\n",
    "\\,\n",
    "dx\n",
    "$$\n"
   ]
  },
  {
   "cell_type": "markdown",
   "metadata": {},
   "source": [
    "At this point I get stuck, since it's an indefinite integral. I assume that the answer assumes that it's a definite integral, from $-\\infty$ to $\\infty$, but it's an assumption. Looking around at other answers:"
   ]
  },
  {
   "cell_type": "markdown",
   "metadata": {},
   "source": [
    "Looking at https://mathoverflow.net/questions/127086/integral-of-the-product-of-normal-density-and-cdf , which is similar:"
   ]
  },
  {
   "cell_type": "markdown",
   "metadata": {},
   "source": [
    "Start with:\n",
    "\n",
    "$$\n",
    "I = \n",
    "\\def\\A{\\mathbb{A}}\n",
    "\\def\\B{\\mathbb{B}}\n",
    "\\int_{-\\infty}^\\infty \\Phi\\left(\n",
    "   \\frac{f - \\A}\n",
    "       {\\B}\n",
    "   \\right)\\phi(f)\\, df\n",
    "$$"
   ]
  },
  {
   "cell_type": "markdown",
   "metadata": {},
   "source": [
    "Taking derivative wrt $\\A$:"
   ]
  },
  {
   "cell_type": "markdown",
   "metadata": {},
   "source": [
    "$$\n",
    "\\partial_\\A I = \\int_{-\\infty}^\\infty\n",
    "\\partial_\\A \\left(\n",
    "    \\Phi \\left(\n",
    "        \\frac{f - \\A}{\\B}\n",
    "    \\right)\n",
    "    \\phi(f)\n",
    "\\right)\n",
    "\\, df\n",
    "$$"
   ]
  },
  {
   "cell_type": "markdown",
   "metadata": {},
   "source": [
    "$$\n",
    "=\\int_{-\\infty}^\\infty\n",
    "\\left(\n",
    "   \\frac{-1}{\\B}\n",
    "\\right)\n",
    "\\phi\\left(\n",
    "   \\frac{f - \\A}{\\B}\n",
    "\\right)\n",
    "\\phi(f)\n",
    "\\,\n",
    "df\n",
    "$$"
   ]
  },
  {
   "cell_type": "markdown",
   "metadata": {},
   "source": [
    "Looking at $E_1 = \\phi\\left(\\frac{f - \\A}{\\B}\\right) \\phi(f)$:\n",
    "\n",
    "$$\n",
    "E_1 = \\frac{1}{2\\pi}\n",
    "\\exp \\left(\n",
    "    - \\frac{1}{2}\n",
    "    \\left(\n",
    "        \\frac{f^2 - 2f\\A + \\A^2 + \\B^2f^2}\n",
    "           {B^2}\n",
    "    \\right)\n",
    "\\right)\n",
    "$$"
   ]
  },
  {
   "cell_type": "markdown",
   "metadata": {},
   "source": [
    "$$\n",
    "=\\frac{1}{2\\pi} \\exp\\left( - \\frac{1}{2\\B^2}\n",
    "   \\left(\n",
    "   \\left(\n",
    "   \\sqrt{(1 + \\B^2)}f - \\A\\frac{1}{\\sqrt{1 + \\B^2}}\n",
    "   \\right)^2\n",
    "   - \\frac{\\A^2}\n",
    "      {1 + \\B^2}\n",
    "    + \\A^2\n",
    "\\right)\n",
    "\\right)\n",
    "$$"
   ]
  },
  {
   "cell_type": "markdown",
   "metadata": {},
   "source": [
    "$$\n",
    "- \\frac{\\A^2}{1+\\B^2} + \\A^2\n",
    "$$"
   ]
  },
  {
   "cell_type": "markdown",
   "metadata": {},
   "source": [
    "$$\n",
    "= \\frac{-\\A^2 + \\A^2 + \\A^2\\B^2}\n",
    "  {1 + \\B^2}\n",
    "  $$"
   ]
  },
  {
   "cell_type": "markdown",
   "metadata": {},
   "source": [
    "$$\n",
    "= \\frac{\\A^2\\B^2}\n",
    "   {1 + \\B^2}\n",
    "$$"
   ]
  },
  {
   "cell_type": "markdown",
   "metadata": {},
   "source": [
    "Therefore $E_1$ is:\n",
    "\n",
    "$$\n",
    "\\frac{1}{2\\pi}\n",
    "\\exp \\left(\n",
    "   -\\frac{1}{2\\B^2}\n",
    "   \\frac{\\A^2\\B^2}{1 + \\B^2}\n",
    "\\right)\n",
    "\\exp \\left(\n",
    "    - \\frac{1}{2\\B^2} \\left(\n",
    "       f\\sqrt{1 + \\B^2} - \\frac{\\A}{\\sqrt{1 + \\B^2}}\n",
    "    \\right)^2\n",
    "\\right)\n",
    "$$"
   ]
  },
  {
   "cell_type": "markdown",
   "metadata": {},
   "source": [
    "$$\n",
    "=\n",
    "\\frac{1}{2\\pi}\n",
    "\\exp \\left(\n",
    "   -\\frac{\\A^2}{2(1 + \\B^2)}\n",
    "\\right)\n",
    "\\exp \\left(\n",
    "    - \\frac{1}{2\\B^2} \\left(\n",
    "       f\\sqrt{1 + \\B^2} - \\frac{\\A}{\\sqrt{1 + \\B^2}}\n",
    "    \\right)^2\n",
    "\\right)\n",
    "$$"
   ]
  },
  {
   "cell_type": "markdown",
   "metadata": {},
   "source": [
    "Make change of variable:\n",
    "\n",
    "$$\n",
    "y = f\\frac{\\sqrt{1 + \\B^2}}{\\B} - \\frac{A}{\\B\\sqrt{1 + \\B^2}}\n",
    "$$"
   ]
  },
  {
   "cell_type": "markdown",
   "metadata": {},
   "source": [
    "Therefore:\n",
    "\n",
    "$$\n",
    "dy = \\frac{\\sqrt{1 + \\B^2}}{\\B}\\,df\n",
    "$$"
   ]
  },
  {
   "cell_type": "markdown",
   "metadata": {},
   "source": [
    "For the limits, we have $f_1 = -\\infty$, and $f_2 = \\infty$"
   ]
  },
  {
   "cell_type": "markdown",
   "metadata": {},
   "source": [
    "$\\sqrt{1 + \\B^2}$ is always positive. $\\B$ is always negative. Therefore:\n",
    "\n",
    "$$\n",
    "y_1 = +\\infty, y_2 = -\\infty\n",
    "$$"
   ]
  },
  {
   "cell_type": "markdown",
   "metadata": {},
   "source": [
    "Therefore:\n",
    "\n",
    "$$\n",
    "\\partial_\\A I =\n",
    "\\frac{-1}{\\B}\\int_{+\\infty}^{-\\infty} \\frac{1}{2\\pi}\n",
    "\\exp \\left(\n",
    "  - \\frac{\\A^2} {2(1+\\B^2)}\n",
    "\\right)\n",
    "\\exp \\left(\n",
    "  - \\frac{1}{2} y^2\n",
    "\\right)\n",
    "\\frac{\\B}{\\sqrt{1 + \\B^2}}\n",
    "\\, \n",
    "dy\n",
    "$$"
   ]
  },
  {
   "cell_type": "markdown",
   "metadata": {},
   "source": [
    "$$\n",
    "= \n",
    "\\frac{1}{\\sqrt{2\\pi}}\n",
    "\\frac{1}{\\B}\n",
    "\\frac{\\B}{\\sqrt{1 + \\B^2}}\n",
    "\\exp \\left(\n",
    "  - \\frac{\\A^2}{2(1 + \\B^2)}\n",
    "\\right)\n",
    "\\int_{-\\infty}^\\infty\n",
    "\\frac{1}{\\sqrt{2\\pi}}\n",
    "\\exp\\left(\n",
    "  -\\frac{1}{2} y^2\n",
    "\\right)\n",
    "\\,\n",
    "dy\n",
    "$$"
   ]
  },
  {
   "cell_type": "markdown",
   "metadata": {},
   "source": [
    "$$\n",
    "= \\frac{1}{\\sqrt{2\\pi}}\n",
    "\\frac{1}{\\sqrt{1+\\B^2}}\n",
    "\\exp \\left(\n",
    "   - \\frac{\\A^2}{2(1 + \\B^2)}\n",
    "\\right)\n",
    "(1)\n",
    "$$"
   ]
  },
  {
   "cell_type": "markdown",
   "metadata": {},
   "source": [
    "$$\n",
    "= \\frac{1}{\\sqrt{1 + \\B^2}}\n",
    "\\phi\\left(\n",
    "   \\frac{\\A}{\\sqrt{1 + \\B^2}}\n",
    "\\right)\n",
    "$$"
   ]
  },
  {
   "cell_type": "markdown",
   "metadata": {},
   "source": [
    "Now we need to re-integrate back up again, since we currently have $\\partial_\\A I$, and we need $I$."
   ]
  },
  {
   "cell_type": "markdown",
   "metadata": {},
   "source": [
    "Since we dont have limits, we'll need to find at least one known point."
   ]
  },
  {
   "cell_type": "markdown",
   "metadata": {},
   "source": [
    "We have the following integral:\n",
    "\n",
    "$$\n",
    "I = \\frac{1}{\\sqrt{1 + \\B^2}} \\int \\phi\\left(\n",
    "    \\frac{\\A}{\\sqrt{1 + \\B^2}}\n",
    "\\right)\n",
    "\\,d\\A\n",
    "$$"
   ]
  },
  {
   "cell_type": "markdown",
   "metadata": {},
   "source": [
    "$$\n",
    "= \\frac{1}{\\sqrt{1 + \\B^2}}\n",
    "\\sqrt{1 + \\B^2}\n",
    "\\Phi\\left(\n",
    "   \\frac{\\A}\n",
    "      {\\sqrt{1 + \\B^2}}\n",
    "\\right)\n",
    "+ C\n",
    "$$\n",
    "... where $C$ is a constant of integration"
   ]
  },
  {
   "cell_type": "markdown",
   "metadata": {},
   "source": [
    "$$\n",
    "= \\Phi \\left(\n",
    "   \\frac{\\A}{\\sqrt{1 + \\B^2}}\n",
    "\\right)\n",
    "+ C\n",
    "$$"
   ]
  },
  {
   "cell_type": "markdown",
   "metadata": {},
   "source": [
    "Looking at the original integral, we had/have:\n",
    "\n",
    "$$\n",
    "I = \\int_{-\\infty}^\\infty \\Phi\\left(\n",
    "   \\frac{f - \\A}{\\B}\n",
    "\\right)\n",
    "\\phi(f)\n",
    "\\,\n",
    "df\n",
    "$$"
   ]
  },
  {
   "cell_type": "markdown",
   "metadata": {},
   "source": [
    "We can see that, given that $\\B$ is negative, as $\\A \\rightarrow \\infty$, $\\Phi\\left(\\frac{f-\\A}{\\B}\\right) \\rightarrow \\Phi(\\infty) = 1$.\n",
    "\n",
    "Therefore, as $\\A \\rightarrow \\infty$, $\\int_{-\\infty}^\\infty \\Phi(\\cdot)\\phi(f)\\,df \\rightarrow 1$\n",
    "\n"
   ]
  },
  {
   "cell_type": "markdown",
   "metadata": {},
   "source": [
    "Meanwhile, looking at the later expression for $I$, ie:\n",
    "\n",
    "$$\n",
    "I= \\Phi\\left(\n",
    "   \\frac{\\A}{\\sqrt{1 + \\B^2}}\n",
    "\\right) + C\n",
    "$$"
   ]
  },
  {
   "cell_type": "markdown",
   "metadata": {},
   "source": [
    "... as $\\A \\rightarrow +\\infty$, $\\Phi\\left( \\frac{\\A}{\\sqrt{1 + \\B^2}} \\right) \\rightarrow 1$"
   ]
  },
  {
   "cell_type": "markdown",
   "metadata": {},
   "source": [
    "But we know that as $\\A \\rightarrow +\\infty$, $I \\rightarrow 1$."
   ]
  },
  {
   "cell_type": "markdown",
   "metadata": {},
   "source": [
    "Therefore, $C = 0$\n"
   ]
  },
  {
   "cell_type": "markdown",
   "metadata": {},
   "source": [
    "Therefore:\n",
    "\n",
    "$$\n",
    "I = \\Phi \\left(\n",
    "   \\frac{\\A}\n",
    "      {\\sqrt{1 + \\B^2}}\n",
    "\\right)\n",
    "$$"
   ]
  }
 ],
 "metadata": {
  "kernelspec": {
   "display_name": "Python 3",
   "language": "python",
   "name": "python3"
  },
  "language_info": {
   "codemirror_mode": {
    "name": "ipython",
    "version": 3
   },
   "file_extension": ".py",
   "mimetype": "text/x-python",
   "name": "python",
   "nbconvert_exporter": "python",
   "pygments_lexer": "ipython3",
   "version": "3.6.1"
  }
 },
 "nbformat": 4,
 "nbformat_minor": 2
}
