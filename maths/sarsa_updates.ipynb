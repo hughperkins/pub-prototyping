{
 "cells": [
  {
   "cell_type": "markdown",
   "metadata": {},
   "source": [
    "We have:\n",
    "\n",
    "$$\n",
    "w_{ij} \\leftarrow w_{ij} + \\alpha \\delta \\frac{\\partial Q_w}{\\partial w}\n",
    "$$\n",
    "\n",
    "where:\n",
    "\n",
    "$$\n",
    "\\delta = r_t + \\gamma Q_w(s_{t+1}, a_{t+1}) - Q_w(s_t, a_t)\n",
    "$$"
   ]
  },
  {
   "cell_type": "markdown",
   "metadata": {},
   "source": [
    "Imagine we have calculated $\\delta$, and pytorch gives us a calculator for $\\frac{\\partial Q_w}{\\partial w}$, using autograd. So can do simply:"
   ]
  },
  {
   "cell_type": "markdown",
   "metadata": {},
   "source": [
    "```\n",
    "Q = q_estimator(state)\n",
    "Q.backward(-delta)\n",
    "```\n",
    "\n",
    "(where we make `delta` negative, since the optimizer will assume the backpropped gradient is the gradient of the loss respect to that parameter, that we want to minimize the loss, and the optimizer will therefore move in the opposite direction to the gradient)"
   ]
  },
  {
   "cell_type": "markdown",
   "metadata": {},
   "source": [
    "If we wanted to use a loss, we'd want that:\n",
    "\n",
    "$$\n",
    "\\frac{\\partial loss}{\\partial w} = - \\delta \\frac{\\partial Q_w}{\\partial w}\n",
    "\\tag{1}\n",
    "$$\n",
    "\n",
    "(with a minus sign, since we will try to decrease the loss, but we want $w$ to move in the direction of $\\delta \\frac{\\partial Q_w}{\\partial w}$)"
   ]
  },
  {
   "cell_type": "markdown",
   "metadata": {},
   "source": [
    "But we have:\n",
    "\n",
    "$$\n",
    "loss = crit(Q_w(input))\n",
    "$$"
   ]
  },
  {
   "cell_type": "markdown",
   "metadata": {},
   "source": [
    "So, we can chain rule this:"
   ]
  },
  {
   "cell_type": "markdown",
   "metadata": {},
   "source": [
    "$$\n",
    "\\frac{\\partial loss}{\\partial w} = \\frac{\\partial crit}{\\partial Q_w}\\frac{\\partial Q_w}{\\partial w}\n",
    "$$"
   ]
  },
  {
   "cell_type": "markdown",
   "metadata": {},
   "source": [
    "Comparing this to equation (1), we see that they both have $\\frac{\\partial Q_w}{\\partial w}$, and so we require that:\n",
    "\n",
    "$$\n",
    "\\frac{\\partial crit}{\\partial Q_w} = - \\delta\n",
    "$$"
   ]
  },
  {
   "cell_type": "markdown",
   "metadata": {},
   "source": [
    "If we integrate this we get:"
   ]
  },
  {
   "cell_type": "markdown",
   "metadata": {},
   "source": [
    "$$\n",
    "crit = - \\int \\delta \\,dQ_w\n",
    "\\tag{2}\n",
    "$$"
   ]
  },
  {
   "cell_type": "markdown",
   "metadata": {},
   "source": [
    "But $\\delta$ is actually a function of $Q_w$, ie:\n",
    "\n",
    "$$\n",
    "\\delta = r_t + \\gamma Q_w(s_{t+1}, a_{t+1}) - Q_w(s_t, a_t)\n",
    "$$"
   ]
  },
  {
   "cell_type": "markdown",
   "metadata": {},
   "source": [
    "I think we're going to hold $Q_w(s_{t+1}, a_{t+1})$ as a constant, and update the weights so taht $Q_w(s_t, a_t)$ approaches the target $r_t + \\gamma Q_w(s_{t+1}, a_{t+1})$. Let's write $Q_w(s_{t+1}, a_{t+1})$ as $Q_{w'}(s_{t+1}, s_{t+1})$ to emphasize taht we are treating it as a constant. And substituting it back in equation (2), we get:"
   ]
  },
  {
   "cell_type": "markdown",
   "metadata": {},
   "source": [
    "$$\n",
    "loss = \\int Q_w(s_t, a_t) - r_t - \\gamma Q_{w'}(s_{t+1}, a_{t+1}) dQ_w\n",
    "$$"
   ]
  },
  {
   "cell_type": "markdown",
   "metadata": {},
   "source": [
    "$$\n",
    "= 1/2 Q_w(s_t, a_t)^2 - r_t Q_w - \\gamma Q_{w'}(s_{t+1}, a_{t+1}) + C\n",
    "$$\n",
    "\n",
    "(where $C$ is an arbitrary constant of integration)"
   ]
  },
  {
   "cell_type": "markdown",
   "metadata": {},
   "source": [
    "$$\n",
    "= 1/2 \\left(Q_w(s_t, a_t) - (r_t + \\gamma Q_{w'}(s_{t+1}, a_{t+1}) \\right)^2 + C\n",
    "$$"
   ]
  },
  {
   "cell_type": "markdown",
   "metadata": {},
   "source": [
    "... which is half the MSE Loss:"
   ]
  },
  {
   "cell_type": "markdown",
   "metadata": {},
   "source": [
    "$$\n",
    "= \\frac{1}{2} \\text{MSELoss}(Q_w(s_t, a_t), r_t + \\gamma Q_{w'}(s_{t+1}, a_{t+1}) + C\n",
    "$$"
   ]
  },
  {
   "cell_type": "markdown",
   "metadata": {},
   "source": [
    "Let's try this with some pytorch, to test empirically for one example:"
   ]
  },
  {
   "cell_type": "code",
   "execution_count": 26,
   "metadata": {},
   "outputs": [
    {
     "name": "stdout",
     "output_type": "stream",
     "text": [
      "mse(q, target_q)/2 w.grad 1.7000000476837158\n",
      "q.backward(-delta) w.grad 1.7000000476837158\n"
     ]
    }
   ],
   "source": [
    "import torch\n",
    "from torch import autograd, optim, nn\n",
    "from torch.autograd import Variable\n",
    "import torch.nn.functional as F\n",
    "\n",
    "\n",
    "def calc_q(s):\n",
    "    w = Variable(torch.FloatTensor([3.0]), requires_grad=True)\n",
    "    q = w * Variable(s)\n",
    "    return w, q\n",
    "\n",
    "\n",
    "s = torch.FloatTensor([1.0])\n",
    "target_q = torch.FloatTensor([1.3])\n",
    "\n",
    "w, q = calc_q(s)\n",
    "crit = nn.MSELoss()\n",
    "loss = crit(q, Variable(target_q)) / 2\n",
    "loss.backward()\n",
    "print('mse(q, target_q)/2 w.grad', w.grad.data[0])\n",
    "\n",
    "w, q = calc_q(s)\n",
    "delta = Variable(target_q) - q\n",
    "q.backward(-delta)\n",
    "print('q.backward(-delta) w.grad', w.grad.data[0])\n"
   ]
  },
  {
   "cell_type": "markdown",
   "metadata": {},
   "source": [
    "=> they match :)"
   ]
  }
 ],
 "metadata": {
  "kernelspec": {
   "display_name": "Python 3",
   "language": "python",
   "name": "python3"
  },
  "language_info": {
   "codemirror_mode": {
    "name": "ipython",
    "version": 3
   },
   "file_extension": ".py",
   "mimetype": "text/x-python",
   "name": "python",
   "nbconvert_exporter": "python",
   "pygments_lexer": "ipython3",
   "version": "3.6.3"
  }
 },
 "nbformat": 4,
 "nbformat_minor": 2
}
