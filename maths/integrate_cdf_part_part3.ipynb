{
 "cells": [
  {
   "cell_type": "markdown",
   "metadata": {},
   "source": [
    "# integrate log cdf and pdf"
   ]
  },
  {
   "cell_type": "markdown",
   "metadata": {},
   "source": [
    "We want to solve the following integral in closed form:"
   ]
  },
  {
   "cell_type": "markdown",
   "metadata": {},
   "source": [
    "$$\n",
    "I_3 = \\int_{-\\infty}^\\infty \\log(\\sigma(x))\n",
    "\\frac{1}{s}\n",
    "\\phi\\left(\n",
    "    \\frac{x - \\mu}\n",
    "      {s}\n",
    "\\right)\n",
    "\\,\n",
    "dx\n",
    "$$"
   ]
  },
  {
   "cell_type": "markdown",
   "metadata": {},
   "source": [
    "subsitute in:\n",
    "\n",
    "$$\n",
    "x = \\mu + st\n",
    "$$\n",
    "\n",
    "Therefore:\n",
    "\n",
    "$$\n",
    "dx = s\\,dt\n",
    "$$\n",
    "\n",
    "and:\n",
    "\n",
    "$$\n",
    "t = \\frac{x - \\mu}\n",
    "  {s}\n",
    "$$"
   ]
  },
  {
   "cell_type": "markdown",
   "metadata": {},
   "source": [
    "For the limits, we have:\n",
    "\n",
    "$$\n",
    "x_1 = -\\infty, x_2 = \\infty\n",
    "$$\n",
    "\n",
    "Then, in terms of $t$, and bearing in mind $s > 0$, we have:\n",
    "\n",
    "$$\n",
    "t_1 = -\\infty, t_2 = \\infty\n",
    "$$"
   ]
  },
  {
   "cell_type": "markdown",
   "metadata": {},
   "source": [
    "Therefore:\n",
    "\n",
    "$$\n",
    "I_3 = \\frac{1}{s}\n",
    "\\int_{-\\infty}^\\infty\n",
    "\\log(\\sigma(\\mu + st))\n",
    "\\phi(t)\n",
    "s\n",
    "\\,\n",
    "dt\n",
    "$$"
   ]
  },
  {
   "cell_type": "markdown",
   "metadata": {},
   "source": [
    "$$\n",
    "=\\int_{-\\infty}^\\infty\n",
    "\\log(\\sigma(\\mu + st))\n",
    "\\phi(t)\n",
    "\\, dt\n",
    "$$"
   ]
  },
  {
   "cell_type": "markdown",
   "metadata": {},
   "source": [
    "Let's try differentiating with respect to $\\mu$, as per 'fast dropout training':"
   ]
  },
  {
   "cell_type": "markdown",
   "metadata": {},
   "source": [
    "$$\n",
    "\\partial_\\mu I_3\n",
    "= \\int_{-\\infty}^\\infty\n",
    "\\frac{\\frac{\\partial}{\\partial \\mu}\\sigma(\\mu + st)}\n",
    "   {\\sigma(\\mu + st)}\n",
    " \\phi(t)\n",
    " \\,\n",
    " dt\n",
    "$$"
   ]
  },
  {
   "cell_type": "markdown",
   "metadata": {},
   "source": [
    "Looking at:\n",
    "\n",
    "$$\n",
    "E_2 = \\frac{\\partial}{\\partial \\mu} \\sigma(\\mu + st)\n",
    "$$"
   ]
  },
  {
   "cell_type": "markdown",
   "metadata": {},
   "source": [
    "Define $\\mu + st = g(\\mu)$. Then:\n",
    "\n",
    "$$\n",
    "E_2 = \\frac{\\partial}{\\partial \\mu} \\sigma(g(\\mu))\n",
    "$$\n",
    "\n",
    "And:\n",
    "\n",
    "$$\n",
    "\\frac{\\partial E_2}{\\partial \\mu} = \\frac{\\partial E_2}{\\partial g} \\frac{\\partial g}{\\partial \\mu}\n",
    "$$"
   ]
  },
  {
   "cell_type": "markdown",
   "metadata": {},
   "source": [
    "$$\n",
    "= \\sigma(g)(1 - \\sigma(g))(1)\n",
    "$$"
   ]
  },
  {
   "cell_type": "markdown",
   "metadata": {},
   "source": [
    "$$\n",
    "= \\sigma(\\mu + st)(1 - \\sigma(\\mu+st))\n",
    "$$"
   ]
  },
  {
   "cell_type": "markdown",
   "metadata": {},
   "source": [
    "Therefore:\n",
    "\n",
    "$$\n",
    "\\partial_\\mu I_3 \n",
    "= \\int_{-\\infty}^\\infty\n",
    "\\frac{\\sigma(\\mu + st)(1 - \\sigma(\\mu+st))}\n",
    "   {\\sigma(\\mu + st)}\n",
    "  \\phi(t)\n",
    "  \\,\n",
    "  dt\n",
    "$$"
   ]
  },
  {
   "cell_type": "markdown",
   "metadata": {},
   "source": [
    "$$\n",
    "= \\int_{-\\infty}^\\infty\n",
    "(1 - \\sigma(\\mu + st))\\phi(t)\\,dt\n",
    "$$"
   ]
  },
  {
   "cell_type": "markdown",
   "metadata": {},
   "source": [
    "Note that by symmetry, $(1 - \\sigma(x)) = \\sigma(-x)$. So we can write:\n",
    "\n",
    "$$\n",
    "\\partial_\\mu I_3 = \\int_{-\\infty}^\\infty \\sigma( -\\mu - st) \\phi(t)\\,dt\n",
    "$$"
   ]
  },
  {
   "cell_type": "markdown",
   "metadata": {},
   "source": [
    "Per 'fast dropout training', we want to get the integral in the form:\n",
    "\n",
    "$$\n",
    "I_1 = \\int_{-\\infty}^\\infty \\sigma(x) \\mathcal{N}(x \\mid \\mu, s^2)\\,dx\n",
    "= \\int_{-\\infty}^\\infty \\sigma(x) \\frac{1}{s} \\phi\\left(\\frac{x - \\mu}{s} \\right)\\,dx\n",
    "$$"
   ]
  },
  {
   "cell_type": "markdown",
   "metadata": {},
   "source": [
    "Let's try substituting $x = \\mu +st$ back again:"
   ]
  },
  {
   "cell_type": "markdown",
   "metadata": {},
   "source": [
    "$$\n",
    "\\partial_\\mu I_3\n",
    "= \\int_{-\\infty}^\\infty\n",
    "\\sigma(-x)\n",
    "\\phi\\left(\n",
    "    \\frac{x - \\mu}{s}\n",
    "\\right)\n",
    "\\frac{1}{s}\n",
    "\\,\n",
    "dx\n",
    "$$"
   ]
  },
  {
   "cell_type": "markdown",
   "metadata": {},
   "source": [
    "$$\n",
    "= \\frac{1}{s}\\int_{-\\infty}^\\infty \\sigma(-x)\\phi\\left( \\frac{x - \\mu}{s} \\right) \\, dx\n",
    "$$"
   ]
  },
  {
   "cell_type": "markdown",
   "metadata": {},
   "source": [
    "Lets use the $\\sigma(-x) = 1 - \\sigma(x)$ identity again..."
   ]
  },
  {
   "cell_type": "markdown",
   "metadata": {},
   "source": [
    "Therefore:\n",
    "\n",
    "$$\n",
    "\\partial_\\mu I_3 = \\frac{1}{s}\\int_{-\\infty}^{\\infty} \\phi\\left(\\frac{x - \\mu}{s}\\right)\\,dx - \\frac{1}{s} \\int_{-\\infty}^\\infty \\sigma(x) \\phi\\left( \\frac{x - \\mu}{s} \\right)\\,dx\n",
    "$$"
   ]
  },
  {
   "cell_type": "markdown",
   "metadata": {},
   "source": [
    "$$\n",
    "= 1 - I_1\n",
    "$$"
   ]
  },
  {
   "cell_type": "markdown",
   "metadata": {},
   "source": [
    "$$\n",
    "\\approx 1 - \\sigma\\left(\n",
    "    \\frac{\\mu}\n",
    "      {\\sqrt{1 + \\pi s^2 / 8}}\n",
    "\\right)\n",
    "$$"
   ]
  },
  {
   "cell_type": "markdown",
   "metadata": {},
   "source": [
    "$$\n",
    "= \\sigma \\left(\n",
    "    \\frac{-\\mu}{\\sqrt{1 + \\pi s^2 / 8}}\n",
    "\\right)\n",
    "$$"
   ]
  },
  {
   "cell_type": "markdown",
   "metadata": {},
   "source": [
    "But this is the partial derivative of $I$ wrt $\\mu$. So, we need to reintegrate this back up."
   ]
  },
  {
   "cell_type": "markdown",
   "metadata": {},
   "source": [
    "Looking at http://mathworld.wolfram.com/SigmoidFunction.html , the indefinite integral of $\\sigma(x)$ is:\n",
    "\n",
    "$$\n",
    "\\int \\sigma(x)\\,dx = \\ln(1 + \\exp(x)) + C\n",
    "$$"
   ]
  },
  {
   "cell_type": "markdown",
   "metadata": {},
   "source": [
    "We want:\n",
    "\n",
    "$$\n",
    "I_3 \\approx \\int \\sigma \\left(\n",
    "   \\frac{-\\mu}\n",
    "      {\\sqrt{1 + \\pi s^2/8}}\n",
    "\\right)\n",
    "\\,\n",
    "d\\mu\n",
    " + C\n",
    "$$"
   ]
  },
  {
   "cell_type": "markdown",
   "metadata": {},
   "source": [
    "Lets substitute in:\n",
    "\n",
    "$$\n",
    "z = -\\frac{\\mu}{\\sqrt{1 + \\pi s^2/8}}\n",
    "$$"
   ]
  },
  {
   "cell_type": "markdown",
   "metadata": {},
   "source": [
    "Therefore:\n",
    "\n",
    "$$\n",
    "dz = - \\frac{d\\mu}{\\sqrt{1 + \\pi s^2/8}}\n",
    "$$"
   ]
  },
  {
   "cell_type": "markdown",
   "metadata": {},
   "source": [
    "and:\n",
    "\n",
    "$$\n",
    "d\\mu = - \\sqrt{1 + \\pi s^2/8}\\,dz\n",
    "$$"
   ]
  },
  {
   "cell_type": "markdown",
   "metadata": {},
   "source": [
    "Therefore:\n",
    "\n",
    "$$\n",
    "I_3 \\approx - \\int \\sigma(z) \\sqrt{1 + \\pi s^2 / 8 }\\, dz + C\n",
    "$$"
   ]
  },
  {
   "cell_type": "markdown",
   "metadata": {},
   "source": [
    "$$\n",
    "= - \\sqrt{1 + \\pi s^2/8} \\int \\sigma(z) \\, dz + C\n",
    "$$"
   ]
  },
  {
   "cell_type": "markdown",
   "metadata": {},
   "source": [
    "$$\n",
    "= - \\sqrt{1 + \\pi s^2/ 8} \\log( 1 + \\exp(z)) + C\n",
    "$$"
   ]
  },
  {
   "cell_type": "markdown",
   "metadata": {},
   "source": [
    "And we have $z = - \\frac{\\mu}{\\sqrt{1 + \\pi s^2/8}}$. So:"
   ]
  },
  {
   "cell_type": "markdown",
   "metadata": {},
   "source": [
    "$$\n",
    "I_3 = - \\sqrt{1 + \\pi s^2/8} \\log\\left( 1 + \\exp\\left(\n",
    "   - \\frac{\\mu}{\\sqrt{1 + \\pi s^2/8}}\n",
    "\\right)\n",
    "\\right)\n",
    "+ C\n",
    "$$"
   ]
  },
  {
   "cell_type": "markdown",
   "metadata": {},
   "source": [
    "... which is looking pretty close to equation (8) in the 'fast dropout training' paper :)"
   ]
  },
  {
   "cell_type": "markdown",
   "metadata": {},
   "source": [
    "We have:\n",
    "\n",
    "$$\n",
    "\\log(AB) = \\log(A) + \\log(B)\n",
    "$$"
   ]
  },
  {
   "cell_type": "markdown",
   "metadata": {},
   "source": [
    "Subsitute $C = -B$, $A = 1$. Then we have:\n",
    "\n",
    "$$\n",
    "\\log(-C) = \\log(1) + \\log(-C) = \\log(-C)\n",
    "$$\n",
    "\n",
    "Hmmm :P"
   ]
  },
  {
   "cell_type": "markdown",
   "metadata": {},
   "source": [
    "Let's try:\n",
    "\n",
    "$$\n",
    "log(A/B) = \\log(A) - \\log(B)\n",
    "$$\n",
    "\n",
    "Substitute $A = 1$:\n",
    "\n",
    "$$\n",
    "\\log(1/B) = -\\log(B)\n",
    "$$"
   ]
  },
  {
   "cell_type": "markdown",
   "metadata": {},
   "source": [
    "Therefore:\n",
    "\n",
    "$$\n",
    "I_3 = \\sqrt{1 + \\pi s^2/8} \\log\\left(\n",
    "   \\frac{1}\n",
    "     {1 + \\exp(- \\mu / \\sqrt{1 + \\pi s^2/8}}\n",
    "\\right)\n",
    "+ C\n",
    "$$"
   ]
  },
  {
   "cell_type": "markdown",
   "metadata": {},
   "source": [
    "$$\n",
    "= \\sqrt{1 + \\pi s^2 8} \\log \\left(\n",
    "  \\sigma \\left(\n",
    "       \\frac{\\mu}{\\sqrt{1 + \\pi s^2/8}}\n",
    "  \\right)\n",
    "\\right)\n",
    "+ C\n",
    "$$"
   ]
  },
  {
   "cell_type": "markdown",
   "metadata": {},
   "source": [
    "Let's try solving for $C$, and see what happens. We need to find at least one known value, to 'fix' or 'ground' the $C$ value."
   ]
  },
  {
   "cell_type": "markdown",
   "metadata": {},
   "source": [
    "Let's look at the original integral again, before we differentiated it. It was:\n",
    "\n",
    "$$\n",
    "I_3 = \\frac{1}{s} \\int_{-\\infty}^\\infty \n",
    "\\log(\\sigma(x))\n",
    "\\,\n",
    "\\phi \\left(\n",
    "   \\frac{x - \\mu }{s}\n",
    "\\right)\n",
    "\\,\n",
    "dx\n",
    "$$"
   ]
  },
  {
   "cell_type": "markdown",
   "metadata": {},
   "source": [
    "... and we want to find some values for $\\mu$ and $s$ that will give us a known value."
   ]
  },
  {
   "cell_type": "markdown",
   "metadata": {},
   "source": [
    "Let's set $s=1$, which basically makes it vanish from the expressions. Then looking at $\\mu$, it only appears in the second $\\phi(\\cdot)$ term. And, as $\\mu \\rightarrow \\infty$, or $\\mu \\rightarrow -\\infty$, then the second term will tend to $0$. However, we have constrainted $\\mu > 0$. Therefore, let's choose to tend $\\mu \\rightarrow \\infty$. As $\\mu \\rightarrow \\infty$, then, looking at other terms:\n",
    "\n",
    "- $1/s = 1$, since we are setting $s=1$\n",
    "- $\\sigma(x) > 0$ almost everywhere for $x \\in (-\\infty, \\infty)$\n",
    "- and $\\sigma(x) < 1$ almost everywhere for $x \\in (-\\infty, \\infty)$\n",
    "- therefore $0 < \\log(\\sigma(x)) < 1$ almost everywhere for $x \\in (-\\infty, \\infty)$\n",
    "\n",
    "Therefore:\n",
    "\n",
    "$$\n",
    "\\lim_{\\mu \\rightarrow \\infty} I_3 = 0\n",
    "$$"
   ]
  },
  {
   "cell_type": "markdown",
   "metadata": {},
   "source": [
    "Meanwhile, looking at our final expression for $I_3$, we have:\n",
    "\n",
    "$$\n",
    "I_3 = \\sqrt{1 + \\pi s^2} \\log \\left(\n",
    "   \\sigma \\left(\n",
    "      \\frac{\\mu}\n",
    "         {\\sqrt{1 + \\pi s^2/8}}\n",
    "   \\right)\n",
    "\\right)\n",
    "+ C\n",
    "$$"
   ]
  },
  {
   "cell_type": "markdown",
   "metadata": {},
   "source": [
    "As $\\mu \\rightarrow \\infty$ $\\sigma(\\mu) \\rightarrow 1$, and thus $\\log(\\sigma(\\mu)) \\rightarrow 0$."
   ]
  },
  {
   "cell_type": "markdown",
   "metadata": {},
   "source": [
    "Therefore, $\\lim_{\\mu \\rightarrow \\infty} I_3 = C$\n",
    "\n",
    "Therefore, by comparison with the earlier result for $I_3$, based on the original integral, $C=0$.\n",
    "\n",
    "Therefore we have:\n",
    "\n",
    "$$\n",
    "I_3 \\approx \\sqrt{1 + \\pi s^2} \\log \\left(\n",
    "    \\sigma \\left(\n",
    "         \\frac{\\mu}{\\sqrt{1 + \\pi s^2/8}}\n",
    "     \\right)\n",
    "\\right)\n",
    "$$"
   ]
  },
  {
   "cell_type": "markdown",
   "metadata": {},
   "source": [
    "which matches the 'fast dropout training' paper :)"
   ]
  }
 ],
 "metadata": {
  "kernelspec": {
   "display_name": "Python 3",
   "language": "python",
   "name": "python3"
  },
  "language_info": {
   "codemirror_mode": {
    "name": "ipython",
    "version": 3
   },
   "file_extension": ".py",
   "mimetype": "text/x-python",
   "name": "python",
   "nbconvert_exporter": "python",
   "pygments_lexer": "ipython3",
   "version": "3.6.1"
  }
 },
 "nbformat": 4,
 "nbformat_minor": 2
}
