{
 "cells": [
  {
   "cell_type": "markdown",
   "metadata": {},
   "source": [
    "# Integrate CDF, PDF, part 2"
   ]
  },
  {
   "cell_type": "markdown",
   "metadata": {},
   "source": [
    "We want:\n",
    "\n",
    "$$\n",
    "I = \\int_{-\\infty}^\\infty\n",
    "\\Phi(\\lambda x)\n",
    "\\frac{1}{\\sigma}\n",
    "\\phi\\left(\n",
    "  \\frac{x - \\mu}{\\sigma}\n",
    "\\right)\n",
    "\\,\n",
    "dx\n",
    "$$"
   ]
  },
  {
   "cell_type": "markdown",
   "metadata": {},
   "source": [
    "differentiate wrt $\\mu$:"
   ]
  },
  {
   "cell_type": "markdown",
   "metadata": {},
   "source": [
    "$$\n",
    "\\partial_\\mu I\n",
    "= \\int_{-\\infty}^\\infty\n",
    "\\Phi(\\lambda x)\n",
    "\\frac{1}{\\sigma}\n",
    "\\left(\n",
    "\\frac{-1}{\\sigma}\n",
    "\\right)\n",
    "(-\\mu)\n",
    "\\phi \\left(\n",
    "   \\frac{x - \\mu}\n",
    "      {\\sigma}\n",
    "\\right)\n",
    "\\,\n",
    "dx\n",
    "$$"
   ]
  },
  {
   "cell_type": "markdown",
   "metadata": {},
   "source": [
    "Dont think that will work. Let's try differentiating wrt $\\lambda$."
   ]
  },
  {
   "cell_type": "markdown",
   "metadata": {},
   "source": [
    "$$\n",
    "\\partial_\\lambda I\n",
    "= \\int_{-\\infty}^\\infty\n",
    "\\lambda \\phi(\\lambda x)\n",
    "\\frac{1}{\\sigma}\n",
    "\\phi \\left(\n",
    "   \\frac{x - \\mu}\n",
    "     {\\sigma}\n",
    "\\right)\n",
    "\\, \n",
    "dx\n",
    "$$"
   ]
  },
  {
   "cell_type": "markdown",
   "metadata": {},
   "source": [
    "Let's define:\n",
    "\n",
    "$$\n",
    "E_1 = \\frac{\\lambda}{\\sigma} \\phi(\\lambda x)\\phi\\left(\n",
    "   \\frac{x-\\mu}{\\sigma}\n",
    "\\right)\n",
    "\\,\n",
    "dx\n",
    "$$"
   ]
  },
  {
   "cell_type": "markdown",
   "metadata": {},
   "source": [
    "Then:\n",
    "\n",
    "$$\n",
    "E_1 = \\frac{\\lambda}{\\sigma}\n",
    "\\frac{1}{2\\pi}\n",
    "\\exp \\left(\n",
    "   -\\frac{1}{2} \\left(\n",
    "       \\lambda^2 x^2\n",
    "       + \\frac{(x - \\mu)^2}{\\sigma^2}\n",
    "   \\right)\n",
    "\\right)\n",
    "$$"
   ]
  },
  {
   "cell_type": "markdown",
   "metadata": {},
   "source": [
    "$$\n",
    "= \\frac{\\lambda}{2\\pi\\sigma}\n",
    "\\exp \\left(\n",
    "  -\\frac{1}{2} \\left(\n",
    "     \\frac{\\lambda^2\\sigma^2x^2 + x^2 - 2\\mu x + \\mu^2}\n",
    "        {\\sigma^2}\n",
    "  \\right)\n",
    "\\right)\n",
    "$$"
   ]
  },
  {
   "cell_type": "markdown",
   "metadata": {},
   "source": [
    "$$\n",
    "=\\frac{\\lambda}{2\\pi\\sigma} \\exp \\left( - \\frac{1}{2\\sigma^2}\\left(\n",
    "      \\left(\n",
    "        \\sqrt{(\\lambda^2\\sigma^2 + 1)}x - \\frac{\\mu}\n",
    "                {\\sqrt{(\\lambda^2\\sigma^2 + 1)}}\n",
    "      \\right)^2\n",
    "      - \\frac{\\mu^2}{\\lambda^2\\sigma^2 + 1} + \\mu^2\n",
    "  \\right)\n",
    "\\right)\n",
    "$$"
   ]
  },
  {
   "cell_type": "markdown",
   "metadata": {},
   "source": [
    "Looking at this term:\n",
    "\n",
    "$$\n",
    "- \\frac{\\mu^2}{\\lambda^2\\sigma^2 + 1} + \\mu^2\n",
    "$$"
   ]
  },
  {
   "cell_type": "markdown",
   "metadata": {},
   "source": [
    "$$\n",
    "= \\frac{- \\mu^2 + \\mu^2\\lambda^2\\sigma^2 + \\mu^2}\n",
    "   {\\lambda^2\\sigma^2 + 1}\n",
    "$$"
   ]
  },
  {
   "cell_type": "markdown",
   "metadata": {},
   "source": [
    "$$\n",
    "= \\frac{\\mu^2\\lambda^2\\sigma^2}\n",
    "   {\\lambda^2\\sigma^2 + 1}\n",
    "$$"
   ]
  },
  {
   "cell_type": "markdown",
   "metadata": {},
   "source": [
    "Therefore\n",
    "$$\n",
    "\\partial_\\lambda I\n",
    "= \\frac{\\lambda}{2\\pi\\sigma}\n",
    "\\exp \\left(\n",
    " - \\frac{\\mu^2}{2\\sigma^2} \\left(\n",
    "     \\frac{\\lambda^2\\sigma^2}\n",
    "        {\\lambda^2\\sigma^2 + 1}\n",
    " \\right)\n",
    "\\right)\n",
    "\\int_{-\\infty}^\\infty\n",
    "\\exp \\left(\n",
    "   - \\frac{1}{2\\sigma^2} \\left(\n",
    "       x\\sqrt{\\lambda^2\\sigma^2+1}\n",
    "       - \\frac{\\mu}{\\sqrt{\\lambda^2\\sigma^2 + 1}}\n",
    "   \\right)^2\n",
    "\\right)\n",
    "\\, dx\n",
    "$$"
   ]
  },
  {
   "cell_type": "markdown",
   "metadata": {},
   "source": [
    "Substitute:\n",
    "\n",
    "$$\n",
    "y = \\frac{1}{\\sigma}\\left(\n",
    "   x\\sqrt{\\lambda^2\\sigma^2 + 1}\n",
    "    - \\frac{\\mu}{\\sqrt{\\lambda^2\\sigma^2 + 1}}\n",
    "\\right)\n",
    "$$\n"
   ]
  },
  {
   "cell_type": "markdown",
   "metadata": {},
   "source": [
    "Therefore:\n",
    "\n",
    "$$\n",
    "dy = \\frac{\\sqrt{\\lambda^2\\sigma^2 + 1}}\n",
    "      {\\sigma}\n",
    "      \\, dx\n",
    "$$"
   ]
  },
  {
   "cell_type": "markdown",
   "metadata": {},
   "source": [
    "Do substitution on the bounds, we have:\n",
    "\n",
    "$$\n",
    "x_1 = -\\infty, x_2 = \\infty\n",
    "$$"
   ]
  },
  {
   "cell_type": "markdown",
   "metadata": {},
   "source": [
    "$\\sigma$ is positive, and $\\sqrt{\\lambda^2\\sigma^2 + 1}$ is positive. Therefore:\n",
    "\n",
    "$$\n",
    "y_1 = -\\infty, y_2 = \\infty\n",
    "$$"
   ]
  },
  {
   "cell_type": "markdown",
   "metadata": {},
   "source": [
    "Therefore:\n",
    "\n",
    "$$\n",
    "\\partial_\\lambda I = \\frac{\\lambda}{\\sigma\\sqrt{2\\pi}}\n",
    "\\exp \\left(\n",
    "  -\\frac{\\mu^2\\lambda^2}\n",
    "     {2(\\lambda^2\\sigma^2+1)}\n",
    "\\right)\n",
    "(1)\n",
    "\\frac{\\sqrt{\\lambda^2\\sigma^2+1}}\n",
    "   {\\sigma}\n",
    "$$"
   ]
  },
  {
   "cell_type": "markdown",
   "metadata": {},
   "source": [
    "$$\n",
    "= \\frac{\\lambda \\sqrt{\\lambda^2\\sigma^2 + 1}}\n",
    "   {\\sigma^2 }\n",
    "   \\phi\\left(\n",
    "      \\frac{\\mu\\lambda}\n",
    "        {\\sqrt{\\lambda^2\\sigma^2 + 1}}\n",
    "   \\right)\n",
    "$$"
   ]
  },
  {
   "cell_type": "markdown",
   "metadata": {},
   "source": [
    "Therefore:\n",
    "\n",
    "$$\n",
    "I = \\frac{\\lambda\\sqrt{\\lambda^2\\sigma^2 + 1}}\n",
    "   {\\sigma^2 }\n",
    "   \\frac{\\sqrt{\\lambda^2\\sigma^2 + 1}}\n",
    "      {\\mu\\lambda}\n",
    "  \\Phi \\left(\n",
    "      \\frac{\\mu\\lambda}\n",
    "         {\\sqrt{\\lambda^2\\sigma^2 + 1}}\n",
    "  \\right)\n",
    "$$"
   ]
  },
  {
   "cell_type": "markdown",
   "metadata": {},
   "source": [
    "not working....\n",
    "\n",
    "Try:"
   ]
  },
  {
   "cell_type": "markdown",
   "metadata": {},
   "source": [
    "Substitute:\n",
    "\n",
    "$$\n",
    "z = \\frac{\\mu}{\\sqrt{\\sigma^2 + \\lambda^{-2}}}\n",
    "= \\mu(\\sigma^2 + \\lambda^{-2})^{-1/2}\n",
    "$$"
   ]
  },
  {
   "cell_type": "markdown",
   "metadata": {},
   "source": [
    "Therefore:\n",
    "\n",
    "$$\n",
    "dz/d\\lambda = (-1/2)\\mu(\\sigma^2 + \\lambda^{-2})^{-3/2}(-2\\lambda^{-3})\n",
    "$$"
   ]
  },
  {
   "cell_type": "markdown",
   "metadata": {},
   "source": [
    "$$\n",
    "= \\frac{\\mu}\n",
    "  {(\\lambda\\sqrt{\\sigma^2 + 1/\\lambda^2})^3}\n",
    "$$"
   ]
  },
  {
   "cell_type": "markdown",
   "metadata": {},
   "source": [
    "$$\n",
    "= \\frac{\\mu}\n",
    "  {(\\sqrt{\\sigma^2\\lambda^2 + 1})^3}\n",
    "$$"
   ]
  },
  {
   "cell_type": "markdown",
   "metadata": {},
   "source": [
    "Not working either...\n",
    "\n",
    "How about, try substitution in the original integral first?"
   ]
  },
  {
   "cell_type": "markdown",
   "metadata": {},
   "source": [
    "We have:\n",
    "\n",
    "$$\n",
    "I_1 = \\int_{-\\infty}^\\infty\n",
    "\\Phi(\\lambda x)\n",
    "\\frac{1}{\\sigma}\n",
    "\\phi\\left(\n",
    "  \\frac{x - \\mu}{\\sigma}\n",
    "\\right)\n",
    "\\,\n",
    "dx\n",
    "$$"
   ]
  },
  {
   "cell_type": "markdown",
   "metadata": {},
   "source": [
    "We know we can solve an integral in the form:\n",
    "\n",
    "$$\n",
    "I_2 = \\int_{-\\infty}^\\infty \\Phi\\left(\n",
    "   \\frac{x - \\mu}{\\sigma}\n",
    "\\right)\n",
    "\\phi(x)\n",
    "\\,\n",
    "dx\n",
    "$$"
   ]
  },
  {
   "cell_type": "markdown",
   "metadata": {},
   "source": [
    "Let's try a variable substitution:\n",
    "\n",
    "$$\n",
    "y = \\frac{x - \\mu}{\\sigma}\n",
    "$$"
   ]
  },
  {
   "cell_type": "markdown",
   "metadata": {},
   "source": [
    "Therefore:\n",
    "\n",
    "$$\n",
    "dy/dx = 1/\\sigma\n",
    "$$"
   ]
  },
  {
   "cell_type": "markdown",
   "metadata": {},
   "source": [
    "And:\n",
    "\n",
    "$$\n",
    "dx = \\sigma\\,dy\n",
    "$$"
   ]
  },
  {
   "cell_type": "markdown",
   "metadata": {},
   "source": [
    "For the limits, we have:\n",
    "\n",
    "$$\n",
    "x_1 = -\\infty, x_2 = +\\infty\n",
    "$$\n",
    "\n",
    "Changing the variable, these become, bearing in mind ~~\\mu > 0, and~~ $\\sigma > 0$:\n",
    "\n",
    "$$\n",
    "y_1 = -\\infty, y_2 = +\\infty\n",
    "$$"
   ]
  },
  {
   "cell_type": "markdown",
   "metadata": {},
   "source": [
    "Finally, $x$ in terms of $y$ is:\n",
    "\n",
    "$$\n",
    "x = y\\sigma + \\mu\n",
    "$$"
   ]
  },
  {
   "cell_type": "markdown",
   "metadata": {},
   "source": [
    "Therefore we have:\n",
    "\n",
    "$$\n",
    "I_1 =\n",
    "\\int_{-\\infty}^\\infty \\Phi \\left(\n",
    "   \\lambda\\sigma y + \\lambda\\mu\n",
    "\\right)\n",
    "\\phi(y)\n",
    "\\,\n",
    "dy\n",
    "$$"
   ]
  },
  {
   "cell_type": "markdown",
   "metadata": {},
   "source": [
    "$$\n",
    "= \n",
    "\\int_{-\\infty}^\\infty\n",
    "\\Phi \\left(\n",
    "   \\frac{y + \\frac{\\mu}{\\sigma}}\n",
    "      {\\frac{1}{\\lambda\\sigma}}\n",
    "\\right)\n",
    "\\phi(y)\n",
    "\\,\n",
    "dy\n",
    "$$"
   ]
  },
  {
   "cell_type": "markdown",
   "metadata": {},
   "source": [
    "... which is in the same form as $I_1$. Yay :)\n",
    "\n",
    "And we have that the solution for I_2 is:\n",
    "\n",
    "$$\n",
    "I_2 = \\Phi\\left(\n",
    "  \\frac{\\mu}\n",
    "    {\\sqrt{1 + \\sigma^2}}\n",
    "\\right)\n",
    "$$\n",
    "\n",
    "But note that this was for __negative__ $\\mu$, whereas here we are constraining $\\mu > 0$. The solution for $\\mu > 0$ then will be:\n",
    "\n",
    "$$\n",
    "I_2[\\mu > 0] = \\Phi\\left(\n",
    "   \\frac{-\\mu}\n",
    "      {\\sqrt{1 + \\sigma^2}}\n",
    "\\right)\n",
    "$$"
   ]
  },
  {
   "cell_type": "markdown",
   "metadata": {},
   "source": [
    "So, this suggests strongly that the solution for $I_1$ is:\n",
    "\n",
    "$$\n",
    "I_1 = \n",
    "\\Phi \\left(\n",
    "    \\frac{-\\left(-\\frac{\\mu}{\\sigma}\\right)}\n",
    "       {\\sqrt{1 + \\frac{1}{\\lambda^2\\sigma^2}}}\n",
    "\\right)\n",
    "$$"
   ]
  },
  {
   "cell_type": "markdown",
   "metadata": {},
   "source": [
    "$$\n",
    "= \\Phi \\left(\n",
    "   \\frac{\\mu}\n",
    "      {\\sqrt{\\sigma^2 + \\lambda^{-2}}}\n",
    "\\right)\n",
    "$$"
   ]
  },
  {
   "cell_type": "markdown",
   "metadata": {},
   "source": [
    "Yay! :)"
   ]
  }
 ],
 "metadata": {
  "kernelspec": {
   "display_name": "Python 3",
   "language": "python",
   "name": "python3"
  },
  "language_info": {
   "codemirror_mode": {
    "name": "ipython",
    "version": 3
   },
   "file_extension": ".py",
   "mimetype": "text/x-python",
   "name": "python",
   "nbconvert_exporter": "python",
   "pygments_lexer": "ipython3",
   "version": "3.6.1"
  }
 },
 "nbformat": 4,
 "nbformat_minor": 2
}
