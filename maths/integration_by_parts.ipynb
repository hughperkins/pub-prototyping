{
 "cells": [
  {
   "cell_type": "markdown",
   "metadata": {},
   "source": [
    "# Integration by parts\n",
    "\n",
    "from https://en.wikipedia.org/wiki/Integration_by_parts"
   ]
  },
  {
   "cell_type": "markdown",
   "metadata": {},
   "source": [
    "$$\n",
    "\\int u \\, dv = uv = \\int v\\, du\n",
    "$$"
   ]
  },
  {
   "cell_type": "markdown",
   "metadata": {},
   "source": [
    "or:\n",
    "\n",
    "$$\n",
    "\\int_a^b u(x)v'(x)\\,dx\n",
    "= [u(x)v(x)]^b_a\n",
    "- \\int_a^b u'(x) v(x)\\,dx \\\\\n",
    "= u(b)v(b) - u(a)v(a)\n",
    "- \\int_a^b u'(x)v(x)\\,dx\n",
    "$$"
   ]
  },
  {
   "cell_type": "markdown",
   "metadata": {},
   "source": [
    "Example: we want:\n",
    "\n",
    "$$\n",
    "I = \\int \\frac{\\ln(x)}{x^2} \\, dx\n",
    "$$"
   ]
  },
  {
   "cell_type": "markdown",
   "metadata": {},
   "source": [
    "We note that:\n",
    "\n",
    "$$\n",
    "\\frac{d}{dx} \\ln(x) = \\frac{1}{x}\n",
    "$$"
   ]
  },
  {
   "cell_type": "markdown",
   "metadata": {},
   "source": [
    "We can write $I$ as:\n",
    "\n",
    "$$\n",
    "I = \\int \\ln(x) \\frac{1}{x^2}\\,dx\n",
    "$$"
   ]
  },
  {
   "cell_type": "markdown",
   "metadata": {},
   "source": [
    "$$\n",
    "= \\int u(x) v'(x) \\, dx\n",
    "$$"
   ]
  },
  {
   "cell_type": "markdown",
   "metadata": {},
   "source": [
    "Where:\n",
    "\n",
    "- $u(x) = \\ln(x)$, and\n",
    "- $v'(x) = \\frac{1}{x^2} = x^{-2}$, and so:\n",
    "- $v(x) = -x^{-1}$"
   ]
  },
  {
   "cell_type": "markdown",
   "metadata": {},
   "source": [
    "Therefore:\n",
    "\n",
    "$$\n",
    "I = \\int u(x)v'(x)\\, dx = uv\n",
    "- \\int u'(x) u(x)\\, dx\n",
    "$$"
   ]
  },
  {
   "cell_type": "markdown",
   "metadata": {},
   "source": [
    "$$\n",
    "= -\\frac{\\ln(x)}{x} - \\int \\frac{1}{x} (-\\frac{1}{x})\\,dx\n",
    "$$"
   ]
  },
  {
   "cell_type": "markdown",
   "metadata": {},
   "source": [
    "$$\n",
    "= -\\frac{\\ln(x)}{a} + \\int x^{-2}\\,dx\n",
    "$$"
   ]
  },
  {
   "cell_type": "markdown",
   "metadata": {},
   "source": [
    "$$\n",
    "= -\\frac{ln(x)}{x} + (-x^{-1})\n",
    "$$"
   ]
  },
  {
   "cell_type": "markdown",
   "metadata": {},
   "source": [
    "$$\n",
    "= -\\frac{\\ln(x)}{x}\n",
    "- \\frac{1}{x}\n",
    "$$"
   ]
  },
  {
   "cell_type": "markdown",
   "metadata": {},
   "source": [
    "$$\n",
    "= - \\frac{\\ln(x) + 1}{x}\n",
    "$$"
   ]
  }
 ],
 "metadata": {
  "kernelspec": {
   "display_name": "Python 3",
   "language": "python",
   "name": "python3"
  },
  "language_info": {
   "codemirror_mode": {
    "name": "ipython",
    "version": 3
   },
   "file_extension": ".py",
   "mimetype": "text/x-python",
   "name": "python",
   "nbconvert_exporter": "python",
   "pygments_lexer": "ipython3",
   "version": "3.6.1"
  }
 },
 "nbformat": 4,
 "nbformat_minor": 2
}
