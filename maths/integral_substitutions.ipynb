{
 "cells": [
  {
   "cell_type": "markdown",
   "metadata": {},
   "source": [
    "Imagine we have:\n",
    "\n",
    "$$\n",
    "I_1 = \\int_0^x t\\,dt\n",
    "$$"
   ]
  },
  {
   "cell_type": "markdown",
   "metadata": {},
   "source": [
    "if we evaluate this we get:\n",
    "\n",
    "$$\n",
    "I_1 = \\left[\\frac{1}{2} t^2\\right]^x_0\n",
    "$$"
   ]
  },
  {
   "cell_type": "markdown",
   "metadata": {},
   "source": [
    "$$\n",
    "= \\frac{1}{2}x^2\n",
    "$$"
   ]
  },
  {
   "cell_type": "markdown",
   "metadata": {},
   "source": [
    "Lets try substituting in $r = 2t$"
   ]
  },
  {
   "cell_type": "markdown",
   "metadata": {},
   "source": [
    "Then:\n",
    "\n",
    "$$\n",
    "dr/dt = 2\n",
    "$$\n",
    "\n",
    "And:\n",
    "\n",
    "$$\n",
    "dt = \\frac{1}{2}dr\n",
    "$$"
   ]
  },
  {
   "cell_type": "markdown",
   "metadata": {},
   "source": [
    "So:\n",
    "\n",
    "$$\n",
    "I_1 = \\int_0^x \\left( \\frac{1}{2} r \\right) \\left( \\frac{1}{2}\\,dr \\right)\n",
    "$$"
   ]
  },
  {
   "cell_type": "markdown",
   "metadata": {},
   "source": [
    "$$\n",
    "= \\int_0^x \\frac{1}{4} r\\,dr\n",
    "$$"
   ]
  },
  {
   "cell_type": "markdown",
   "metadata": {},
   "source": [
    "Clearly, this wont give the same answer. So, we probably should modify the limits too."
   ]
  },
  {
   "cell_type": "markdown",
   "metadata": {},
   "source": [
    "Try modifying the limit:\n",
    "\n",
    "$$\n",
    "x \\mapsto 2x\n",
    "$$"
   ]
  },
  {
   "cell_type": "markdown",
   "metadata": {},
   "source": [
    "So:\n",
    "\n",
    "$$\n",
    "I_1 = \\int_0^{2x} \\frac{1}{4} r \\, dr\n",
    "$$"
   ]
  },
  {
   "cell_type": "markdown",
   "metadata": {},
   "source": [
    "$$\n",
    "= \\left[ \\frac{1}{8} r^2 \\right]_0^{2x}\n",
    "$$"
   ]
  },
  {
   "cell_type": "markdown",
   "metadata": {},
   "source": [
    "$$\n",
    "= \\frac{1}{8}(4)x^2\n",
    "$$"
   ]
  },
  {
   "cell_type": "markdown",
   "metadata": {},
   "source": [
    "$$\n",
    "= \\frac{1}{2} x^2\n",
    "$$"
   ]
  },
  {
   "cell_type": "markdown",
   "metadata": {},
   "source": [
    "Which matches the earlier result."
   ]
  },
  {
   "cell_type": "markdown",
   "metadata": {},
   "source": [
    "More generally, looking at https://en.wikipedia.org/wiki/Integration_by_substitution , we hvae:\n",
    "\n",
    "\"Let $I \\subseteq \\mathbb{R}$ be an interval and $\\phi : [a, b] \\rightarrow I$ be a differential function with integrable derivative. Suppose that $f:I \\rightarrow \\mathbb{R}$ is a continuous function. Then\n",
    "\n",
    "$$\n",
    "\\int_{\\phi(a)}^{\\phi(b)} f(x)\\,dx =\n",
    "\\int_a^b f(\\phi(t))\\phi'(t) \\, dt\n",
    "$$"
   ]
  },
  {
   "cell_type": "markdown",
   "metadata": {},
   "source": [
    "\"In other notation: the substitution $x = \\phi(t)$ yields:\n",
    "\n",
    "$$\n",
    "\\frac{dx}{dt} = \\phi'(t)\n",
    "$$"
   ]
  },
  {
   "cell_type": "markdown",
   "metadata": {},
   "source": [
    "\"and thus, formally $dx = \\phi'(t)\\,dt$, which is the required substitution for $dx$"
   ]
  },
  {
   "cell_type": "markdown",
   "metadata": {},
   "source": [
    "For the substitution of the limits, it looks like we can make it easier to figure out by adding in some additional notation:\n",
    "\n",
    "$$\n",
    "\\int_{\\phi(a)}^{\\phi(b)} f(x) \\, dx\n",
    "= \\int_{x=\\phi(a)}^{x=\\phi(b)} f(x)\\,dx\n",
    "$$"
   ]
  },
  {
   "cell_type": "markdown",
   "metadata": {},
   "source": [
    "So, substituting $x = \\phi(t)$, for the first limit we have:\n",
    "\n",
    "$$\n",
    "x = \\phi(a)\n",
    "$$"
   ]
  },
  {
   "cell_type": "markdown",
   "metadata": {},
   "source": [
    "And we want to convert the limits to be in terms of $t$, ie $t_1=$ (something). If $x_1 = \\phi(t)$, and we have $x= \\phi(a)$"
   ]
  },
  {
   "cell_type": "markdown",
   "metadata": {},
   "source": [
    "... then $t_1 = a$. Similarly, if $x_2 = \\phi(b)$, then $t_2 = b$. As required."
   ]
  },
  {
   "cell_type": "markdown",
   "metadata": {},
   "source": [
    "Let's try this notation for the earlier integral $I_1$:"
   ]
  },
  {
   "cell_type": "markdown",
   "metadata": {},
   "source": [
    "$$\n",
    "I_1 = \\int_0^x t\\, dt\n",
    "$$"
   ]
  },
  {
   "cell_type": "markdown",
   "metadata": {},
   "source": [
    "Substitute $r = 2t$, so we have:\n",
    "\n",
    "$$\n",
    "I_1 = \\int_0^x t \\, dt = \\int_{t=0}^{t=x} t \\, dt\n",
    "$$"
   ]
  },
  {
   "cell_type": "markdown",
   "metadata": {},
   "source": [
    "Looking at the limits, which we can denote as $t_1$ and $t_2$, we have:\n",
    "\n",
    "$$\n",
    "t_1 = 0, \\text{ and }r = 2t\n",
    "$$\n",
    "Therefore:\n",
    "\n",
    "$$\n",
    "r_1 = 2 t_1 = 0\n",
    "$$\n",
    "\n",
    "For the upper limit, $t_2$, we have:\n",
    "\n",
    "$$\n",
    "t_2 = x, \\text{ and }r = 2t\n",
    "$$\n",
    "\n",
    "Therefore:\n",
    "\n",
    "$$\n",
    "r_2 = 2 t_2 = 2x\n",
    "$$"
   ]
  },
  {
   "cell_type": "markdown",
   "metadata": {},
   "source": [
    "So, $I_1$ will become:"
   ]
  },
  {
   "cell_type": "markdown",
   "metadata": {},
   "source": [
    "$$\n",
    "I_1 = \\int_{0}^{2x} \\left(\\frac{1}{2} r\\right) \\left(\\frac{1}{2} \\, dr \\right)\n",
    "$$"
   ]
  },
  {
   "cell_type": "markdown",
   "metadata": {},
   "source": [
    "$$\n",
    "= \\left[\n",
    "   \\frac{1}{4} \\frac{1}{2} r^2\n",
    "\\right]_0^{2x}\n",
    "$$"
   ]
  },
  {
   "cell_type": "markdown",
   "metadata": {},
   "source": [
    "$$\n",
    "= \\left[\n",
    "   \\frac{1}{8} r^2\n",
    "\\right]_0^{2x}\n",
    "$$"
   ]
  },
  {
   "cell_type": "markdown",
   "metadata": {},
   "source": [
    "$$\n",
    "= \\frac{1}{2} x^2\n",
    "$$"
   ]
  },
  {
   "cell_type": "markdown",
   "metadata": {},
   "source": [
    "... as required"
   ]
  }
 ],
 "metadata": {
  "kernelspec": {
   "display_name": "Python 3",
   "language": "python",
   "name": "python3"
  },
  "language_info": {
   "codemirror_mode": {
    "name": "ipython",
    "version": 3
   },
   "file_extension": ".py",
   "mimetype": "text/x-python",
   "name": "python",
   "nbconvert_exporter": "python",
   "pygments_lexer": "ipython3",
   "version": "3.6.1"
  }
 },
 "nbformat": 4,
 "nbformat_minor": 2
}
