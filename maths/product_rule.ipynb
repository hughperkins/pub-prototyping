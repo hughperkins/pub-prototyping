{
 "cells": [
  {
   "cell_type": "markdown",
   "metadata": {},
   "source": [
    "# Product rule"
   ]
  },
  {
   "cell_type": "markdown",
   "metadata": {},
   "source": [
    "Product rule:\n",
    "\n",
    "https://en.wikipedia.org/wiki/Product_rule\n",
    "\n",
    "For three factors:\n",
    "\n",
    "$$\n",
    "\\frac{d(uvw)}{dx} =\n",
    "\\frac{du}{dx}vw\n",
    "+ u\\frac{dv}{dx}w\n",
    "+ uv\\frac{dw}{dx} \\\\\n",
    "= uvw\\left(\n",
    "    \\frac{1}{u}\\frac{du}{dx} + \\frac{1}{v} \\frac{dv}{dx} + \\frac{1}{w}\\frac{dw}{dx}\n",
    "\\right)\n",
    "$$\n",
    "\n",
    "For $k$ factors, $f_1, f_2, \\dots, f_k$ we have:\n",
    "\n",
    "$$\n",
    "\\frac{d}{dx}\\prod_{i=1}^k f_k =\n",
    "\\sum_{i=1}^k\n",
    "\\frac{df_i}{dx}\n",
    "\\prod_{j \\ne i}\n",
    "f_j \\\\\n",
    "= \\left(\n",
    "   \\prod_{i=1}^k\n",
    "   f_i\n",
    "\\right)\n",
    "\\left(\n",
    "   \\sum_{i=1}^k\n",
    "       \\frac{1}{f_i}\n",
    "       \\frac{df_i}{dx}\n",
    "\\right) \\\\\n",
    "= \\left(\n",
    "   \\prod_{i=1}^k f_i\n",
    "\\right)\n",
    "\\left(\n",
    "   \\sum_{i=1}^k\n",
    "   \\frac{f'_i(x)}\n",
    "   {f_i(x)}\n",
    "\\right)\n",
    "$$\n",
    "\n"
   ]
  },
  {
   "cell_type": "markdown",
   "metadata": {},
   "source": [
    "But we have:\n",
    "\n",
    "$$\n",
    "\\frac{f'(x)}{f(x)} = f'(\\log(x))\n",
    "$$"
   ]
  },
  {
   "cell_type": "markdown",
   "metadata": {},
   "source": [
    "Therefore:\n",
    "\n",
    "$$\n",
    "\\frac{d}{dx}\\prod_{i=1}^k f_k =\n",
    "\\left(\n",
    "   \\prod_{i=1}^k f_i\n",
    "\\right)\n",
    "\\left(\n",
    "   \\sum_{i=1}^k f'_i(\\log(x))\n",
    "\\right)\n",
    "$$"
   ]
  }
 ],
 "metadata": {
  "kernelspec": {
   "display_name": "Python 3",
   "language": "python",
   "name": "python3"
  },
  "language_info": {
   "codemirror_mode": {
    "name": "ipython",
    "version": 3
   },
   "file_extension": ".py",
   "mimetype": "text/x-python",
   "name": "python",
   "nbconvert_exporter": "python",
   "pygments_lexer": "ipython3",
   "version": "3.6.1"
  }
 },
 "nbformat": 4,
 "nbformat_minor": 2
}
