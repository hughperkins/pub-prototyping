{
 "cells": [
  {
   "cell_type": "markdown",
   "metadata": {},
   "source": [
    "# 4729"
   ]
  },
  {
   "cell_type": "markdown",
   "metadata": {},
   "source": [
    "$$\n",
    "o_j = \\max(i_j, \\theta)\n",
    "$$"
   ]
  },
  {
   "cell_type": "markdown",
   "metadata": {},
   "source": [
    "We want $do_j/d\\theta$ I guess?"
   ]
  },
  {
   "cell_type": "markdown",
   "metadata": {},
   "source": [
    "So, let's break the formula down into two piece-wise linear parts:\n",
    "\n",
    "When $i_j < \\theta$:\n",
    "\n",
    "$$\n",
    "o_j = \\theta\n",
    "$$\n",
    "\n",
    "And therefore:\n",
    "\n",
    "$$\n",
    "do_j/d\\theta = 1\n",
    "$$\n",
    "\n",
    "When $i_j > \\theta$:\n",
    "\n",
    "$$\n",
    "o_j = i_j\n",
    "$$\n",
    "\n",
    "And therefore:\n",
    "\n",
    "$$\n",
    "do_j/d\\theta = 0\n",
    "$$\n",
    "\n",
    "So, the differnetial $do_j/d\\theta$ is:\n",
    "\n",
    "$$\n",
    "do_j/d\\theta = \\begin{cases}1 \\text{ when } i_j < \\theta \\\\\n",
    "0 \\text{ when } i_j > \\theta\n",
    "\\end{cases}\n",
    "$$"
   ]
  },
  {
   "cell_type": "markdown",
   "metadata": {},
   "source": [
    "## both threshold and threshold_value can change\n",
    "\n",
    "So, our formula becomes:\n",
    "\n",
    "$$\n",
    "o_j = \\begin{cases}\\phi\\,\\text{when}\\,i_j > \\theta \\\\\n",
    "i_j \\,\\text{when}i_j < \\theta\n",
    "\\end{cases}\n",
    "$$\n"
   ]
  },
  {
   "cell_type": "markdown",
   "metadata": {},
   "source": [
    "Looking case by case, for the piece $i_j > \\theta$, we have:\n",
    "    \n",
    "$$\n",
    "o_j = \\phi\n",
    "$$\n",
    "\n",
    "Therefore:\n",
    "\n",
    "$$\n",
    "\\frac{\\partial o_j}{\\partial \\theta} = 0\n",
    "$$\n",
    "\n",
    "and:\n",
    "\n",
    "$$\n",
    "\\frac{\\partial o_j}{\\partial \\phi} = 1\n",
    "$$\n",
    "\n",
    "For the case $i_j < \\theta$, we have:\n",
    "\n",
    "$$\n",
    "o_j = i_j\n",
    "$$\n",
    "\n",
    "Therefore:\n",
    "\n",
    "$$\n",
    "\\frac{\\partial o_j}{\\partial \\theta} = 0\n",
    "$$\n",
    "\n",
    "and:\n",
    "\n",
    "$$\n",
    "\\frac{\\partial o_j}{\\partial \\phi} = 0\n",
    "$$\n"
   ]
  }
 ],
 "metadata": {
  "kernelspec": {
   "display_name": "Python 3",
   "language": "python",
   "name": "python3"
  },
  "language_info": {
   "codemirror_mode": {
    "name": "ipython",
    "version": 3
   },
   "file_extension": ".py",
   "mimetype": "text/x-python",
   "name": "python",
   "nbconvert_exporter": "python",
   "pygments_lexer": "ipython3",
   "version": "3.6.1"
  }
 },
 "nbformat": 4,
 "nbformat_minor": 2
}
