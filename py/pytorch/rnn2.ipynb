{
 "cells": [
  {
   "cell_type": "markdown",
   "metadata": {},
   "source": [
    "__Boundary conditions / edge cases__\n",
    "\n",
    "- $t \\in \\{0, ..., \\text{seq_len} - 1\\}$\n",
    "- define $T = \\text{seq_len} - 1$\n",
    "- $t \\in \\{0, ..., T\\}$\n",
    "\n",
    "for each of $t \\in \\{0, ..., T\\}$:\n",
    "- we have an `input[t]`\n",
    "- we calculate an `output[t]`\n",
    "\n",
    "define: `out[t==-1] = 0`\n",
    "\n",
    "__formula for each timestep__\n",
    "\n",
    "- `out[t] = (out[t - 1] + input[t]) * W`\n"
   ]
  },
  {
   "cell_type": "markdown",
   "metadata": {},
   "source": [
    "__Chain rule:__\n",
    "\n",
    "$$\n",
    "\\frac{\\partial a}{\\partial b}\n",
    "= \\frac{\\partial a}{\\partial c}\n",
    "\\frac{\\partial c}{\\partial b}\n",
    "$$\n",
    "\n",
    "$$\n",
    "\\frac{\\partial a}{\\partial b}\n",
    "= [\\text{something we know}]\n",
    "[\\text{something we can calculate}]\n",
    "$$\n"
   ]
  },
  {
   "cell_type": "markdown",
   "metadata": {},
   "source": [
    "__Back propagation__\n",
    "\n",
    "__We want:__\n",
    "\n",
    "$$\n",
    "\\frac{\\partial \\text{out}[T]}{\\partial W[t]}\n",
    "$$\n"
   ]
  },
  {
   "cell_type": "markdown",
   "metadata": {},
   "source": [
    "$$\n",
    "\\frac{\\partial \\text{out}[T]}{\\partial W[t]}\n",
    "= \\frac{\\partial \\text{out}[T]}{\\partial \\text{out}[t]}\n",
    "\\frac{\\partial \\text{out}[t]}{\\partial W[t]}\n",
    "$$"
   ]
  },
  {
   "cell_type": "markdown",
   "metadata": {},
   "source": [
    "$$\n",
    "\\frac{\\partial \\text{out}[t]}{\\partial W[t]}\n",
    "= out[t - 1] + input[t]\n",
    "$$"
   ]
  },
  {
   "cell_type": "markdown",
   "metadata": {},
   "source": [
    "$$\n",
    "\\frac{\\partial \\text{out}[T]}{\\partial \\text{out}[t]}\n",
    "=\\frac{\\partial \\text{out}[T]}{\\partial \\text{out}[t + 1]}\n",
    "\\frac{\\partial \\text{out}[t+1]}{\\partial \\text{out}[t]}\n",
    "$$"
   ]
  },
  {
   "cell_type": "markdown",
   "metadata": {},
   "source": [
    "`out[t + 1] = (out[t] + input[t + 1]) * W`"
   ]
  },
  {
   "cell_type": "markdown",
   "metadata": {},
   "source": [
    "$$\n",
    "\\frac{\\partial \\text{out}[t+1]}{\\partial \\text{out}[t]} = W\n",
    "$$"
   ]
  },
  {
   "cell_type": "markdown",
   "metadata": {},
   "source": [
    "__Definitions__\n",
    "\n",
    "- `gradOutput[t]` =\n",
    "\n",
    "$$\n",
    "\\frac{\\partial \\text{out}[T]}{\\partial \\text{out}[t]}\n",
    "$$\n",
    "\n",
    "- `gradW[t]` = \n",
    "$$\n",
    "\\frac{\\partial \\text{out}[T] }{\\partial W[t]}\n",
    "$$\n"
   ]
  }
 ],
 "metadata": {
  "kernelspec": {
   "display_name": "Python 3",
   "language": "python",
   "name": "python3"
  },
  "language_info": {
   "codemirror_mode": {
    "name": "ipython",
    "version": 3
   },
   "file_extension": ".py",
   "mimetype": "text/x-python",
   "name": "python",
   "nbconvert_exporter": "python",
   "pygments_lexer": "ipython3",
   "version": "3.6.1"
  }
 },
 "nbformat": 4,
 "nbformat_minor": 2
}
