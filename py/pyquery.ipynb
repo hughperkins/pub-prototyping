{
 "cells": [
  {
   "cell_type": "markdown",
   "metadata": {},
   "source": [
    "# Pyquery"
   ]
  },
  {
   "cell_type": "code",
   "execution_count": 53,
   "metadata": {
    "collapsed": false
   },
   "outputs": [
    {
     "name": "stdout",
     "output_type": "stream",
     "text": [
      "star\n",
      "\n",
      "star\n",
      "\n",
      "None\n",
      "\n",
      "123 125 125\n",
      "<class 'pyquery.pyquery.PyQuery'>\n",
      "<class 'lxml.etree._Element'>\n",
      "d a text \n",
      "\n",
      "star\n",
      "None\n",
      "123\n",
      "star\n",
      "None\n",
      "125\n",
      "None\n",
      "Stargazers\n",
      "125\n"
     ]
    }
   ],
   "source": [
    "import pyquery\n",
    "\n",
    "html = \"\"\"<html>\n",
    "<body>\n",
    "<a href=\"foo\">\n",
    "<svg aria-label=\"star\" />\n",
    "123\n",
    "</a>\n",
    "\n",
    "<a href=\"second\">\n",
    "<svg aria-label=\"star\" />\n",
    "125\n",
    "</a>\n",
    "\n",
    "<a href=\"third\" aria-label=\"Stargazers\">\n",
    "125\n",
    "</a>\n",
    "\n",
    "</body>\n",
    "</html>\n",
    "\"\"\"\n",
    "\n",
    "d = pyquery.PyQuery(html)\n",
    "# print('d', d)\n",
    "# print('')\n",
    "# print(d('a'))\n",
    "# print('')\n",
    "# print(d('a')('svg'))\n",
    "# print('')\n",
    "# print(d('a')('svg'))\n",
    "# print('')\n",
    "\n",
    "for node in d('a').items():\n",
    "    print(node.find('svg').attr['aria-label'])\n",
    "    print('')\n",
    "\n",
    "#     for node in d('a'):\n",
    "#     print(node.text_content())\n",
    "#     print(dir(node))\n",
    "#     print(dir(node[0]))\n",
    "print(d('a').text())\n",
    "print(type(d('a')))\n",
    "print(type(d('a')[0]))\n",
    "print('d a text', d('a')[0].text)\n",
    "# print(dir(d('a')))\n",
    "#  print(d('a').items()[0])\n",
    "\n",
    "for node in d('a').items():\n",
    "#     print('node', node)\n",
    "    print(node.find('svg').attr['aria-label'])\n",
    "    print(node.attr['aria-label'])\n",
    "    print(node.text())\n"
   ]
  }
 ],
 "metadata": {
  "kernelspec": {
   "display_name": "Python 3",
   "language": "python",
   "name": "python3"
  },
  "language_info": {
   "codemirror_mode": {
    "name": "ipython",
    "version": 3
   },
   "file_extension": ".py",
   "mimetype": "text/x-python",
   "name": "python",
   "nbconvert_exporter": "python",
   "pygments_lexer": "ipython3",
   "version": "3.5.2"
  }
 },
 "nbformat": 4,
 "nbformat_minor": 2
}
