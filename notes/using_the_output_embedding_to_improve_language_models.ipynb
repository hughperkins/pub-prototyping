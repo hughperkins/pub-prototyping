{
 "cells": [
  {
   "cell_type": "markdown",
   "metadata": {},
   "source": [
    "# \"Using the output embedding to improve language models\"\n",
    "\n",
    "by Press and Wolf, 2017"
   ]
  },
  {
   "cell_type": "markdown",
   "metadata": {},
   "source": [
    "input word is: $c \\in \\mathbb{R}^C$.\n",
    "\n",
    "embedding, : $\\mathbf{U}^T \\mathbf{c}$\n",
    "\n",
    "computation, gives $\\mathbf{h}_2 = f(\\mathbf{U}^T \\mathbf{c})$\n",
    "\n",
    "second matrix, $\\mathbf{V}$ projects $\\mathbf{h}_2$ to a vector $\\mathbf{h}_3$ containing one score per vocabulary. $\\mathbf{h}_3 = \\mathbf{V}\\mathbf{h}_2$\n",
    "\n",
    "Vector of scores then converted to vector of probability values, using softmax.\n",
    "\n",
    "$\\mathbf{U} \\in \\mathbb{R}^{C\\, \\times\\, H}$\n",
    "\n",
    "$\\mathbf{h}_2 \\in \\mathbb{R}^h$.\n",
    "\n",
    "$\\mathbf{V} \\in \\mathbb{R}^{C\\,\\times\\,H}$"
   ]
  },
  {
   "cell_type": "markdown",
   "metadata": {},
   "source": [
    "\n",
    "\n",
    "\n",
    "\n",
    "\n",
    "\n",
    "\n",
    "\n",
    "\n",
    "\n",
    "\n",
    "\n",
    "\n",
    "\n"
   ]
  }
 ],
 "metadata": {
  "kernelspec": {
   "display_name": "Python 3",
   "language": "python",
   "name": "python3"
  },
  "language_info": {
   "codemirror_mode": {
    "name": "ipython",
    "version": 3
   },
   "file_extension": ".py",
   "mimetype": "text/x-python",
   "name": "python",
   "nbconvert_exporter": "python",
   "pygments_lexer": "ipython3",
   "version": "3.6.1"
  }
 },
 "nbformat": 4,
 "nbformat_minor": 2
}
